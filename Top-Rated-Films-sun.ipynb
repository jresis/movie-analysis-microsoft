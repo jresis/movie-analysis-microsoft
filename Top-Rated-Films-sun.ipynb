{
 "cells": [
  {
   "cell_type": "markdown",
   "metadata": {},
   "source": [
    "# Q: What are the Top Rated and Most Rated Films (Mark)"
   ]
  },
  {
   "cell_type": "markdown",
   "metadata": {},
   "source": [
    "We decided that aside from financial metrics like gross revenues, another important success metric is quality. User ratings is one of the ways we have defined quality, and we examined the average ratings of films on IMDB.com. One of the reasons we chose this source is that it had a large number of users contributing ratings to films. We also considered user ratings on The Movie Database webiste (TMDb) but decided not to use this data due to the comparatively lower number of user ratings per film. Of course the number of ratings can also be an important metric and we use it here as a rough proxy for film popularity. Note that this analysis was limited to English language films. "
   ]
  },
  {
   "cell_type": "markdown",
   "metadata": {},
   "source": [
    "### Importing Packages and Files"
   ]
  },
  {
   "cell_type": "code",
   "execution_count": 1,
   "metadata": {},
   "outputs": [],
   "source": [
    "import pandas as pd\n",
    "import numpy as np\n",
    "import matplotlib.pyplot as plt\n",
    "%matplotlib inline\n",
    "import seaborn as sns"
   ]
  },
  {
   "cell_type": "code",
   "execution_count": 2,
   "metadata": {},
   "outputs": [],
   "source": [
    "pd.set_option('display.max_columns', 45)\n",
    "pd.set_option('display.max_rows', 100)"
   ]
  },
  {
   "cell_type": "code",
   "execution_count": 3,
   "metadata": {},
   "outputs": [],
   "source": [
    "Full = pd.read_csv(\"df_7.csv\")"
   ]
  },
  {
   "cell_type": "markdown",
   "metadata": {},
   "source": [
    "### Understanding the Data Frame"
   ]
  },
  {
   "cell_type": "markdown",
   "metadata": {},
   "source": [
    "First step is to understand the size, columns, and types of data that are contained in the dataframe. This dataframe is one that was the product of several merges, as I was originally planning to use some of the user rating data from TNDb and some from IMDB. We needed to get user ratings, movie names, and genres all into one dataframe from 2 different files. This dataframe started with about 14K rows."
   ]
  },
  {
   "cell_type": "code",
   "execution_count": 4,
   "metadata": {},
   "outputs": [
    {
     "name": "stdout",
     "output_type": "stream",
     "text": [
      "(14219, 39)\n",
      "tconst              object\n",
      "averagerating      float64\n",
      "numvotes             int64\n",
      "primary_title       object\n",
      "original_title      object\n",
      "start_year           int64\n",
      "runtime_minutes    float64\n",
      "genres              object\n",
      "Animation            int64\n",
      "Sport                int64\n",
      "Mystery              int64\n",
      "Action               int64\n",
      "Comedy               int64\n",
      "Documentary          int64\n",
      "Romance              int64\n",
      "News                 int64\n",
      "War                  int64\n",
      "Horror               int64\n",
      "Fantasy              int64\n",
      "Family               int64\n",
      "Music                int64\n",
      "Musical              int64\n",
      "Sci-Fi               int64\n",
      "History              int64\n",
      "Biography            int64\n",
      "Thriller             int64\n",
      "Crime                int64\n",
      "Adventure            int64\n",
      "Drama                int64\n",
      "id                   int64\n",
      "release_date        object\n",
      "title               object\n",
      "vote_average       float64\n",
      "vote_count           int64\n",
      "Year                 int64\n",
      "category            object\n",
      "primary_name        object\n",
      "birth_year         float64\n",
      "death_year         float64\n",
      "dtype: object\n"
     ]
    },
    {
     "data": {
      "text/html": [
       "<div>\n",
       "<style scoped>\n",
       "    .dataframe tbody tr th:only-of-type {\n",
       "        vertical-align: middle;\n",
       "    }\n",
       "\n",
       "    .dataframe tbody tr th {\n",
       "        vertical-align: top;\n",
       "    }\n",
       "\n",
       "    .dataframe thead th {\n",
       "        text-align: right;\n",
       "    }\n",
       "</style>\n",
       "<table border=\"1\" class=\"dataframe\">\n",
       "  <thead>\n",
       "    <tr style=\"text-align: right;\">\n",
       "      <th></th>\n",
       "      <th>tconst</th>\n",
       "      <th>averagerating</th>\n",
       "      <th>numvotes</th>\n",
       "      <th>primary_title</th>\n",
       "      <th>original_title</th>\n",
       "      <th>start_year</th>\n",
       "      <th>runtime_minutes</th>\n",
       "      <th>genres</th>\n",
       "      <th>Animation</th>\n",
       "      <th>Sport</th>\n",
       "      <th>Mystery</th>\n",
       "      <th>Action</th>\n",
       "      <th>Comedy</th>\n",
       "      <th>Documentary</th>\n",
       "      <th>Romance</th>\n",
       "      <th>News</th>\n",
       "      <th>War</th>\n",
       "      <th>Horror</th>\n",
       "      <th>Fantasy</th>\n",
       "      <th>Family</th>\n",
       "      <th>Music</th>\n",
       "      <th>Musical</th>\n",
       "      <th>Sci-Fi</th>\n",
       "      <th>History</th>\n",
       "      <th>Biography</th>\n",
       "      <th>Thriller</th>\n",
       "      <th>Crime</th>\n",
       "      <th>Adventure</th>\n",
       "      <th>Drama</th>\n",
       "      <th>id</th>\n",
       "      <th>release_date</th>\n",
       "      <th>title</th>\n",
       "      <th>vote_average</th>\n",
       "      <th>vote_count</th>\n",
       "      <th>Year</th>\n",
       "      <th>category</th>\n",
       "      <th>primary_name</th>\n",
       "      <th>birth_year</th>\n",
       "      <th>death_year</th>\n",
       "    </tr>\n",
       "  </thead>\n",
       "  <tbody>\n",
       "    <tr>\n",
       "      <th>0</th>\n",
       "      <td>tt1043726</td>\n",
       "      <td>4.2</td>\n",
       "      <td>50352</td>\n",
       "      <td>The Legend of Hercules</td>\n",
       "      <td>The Legend of Hercules</td>\n",
       "      <td>2014</td>\n",
       "      <td>99.0</td>\n",
       "      <td>Action,Adventure,Fantasy</td>\n",
       "      <td>0</td>\n",
       "      <td>0</td>\n",
       "      <td>0</td>\n",
       "      <td>1</td>\n",
       "      <td>0</td>\n",
       "      <td>0</td>\n",
       "      <td>0</td>\n",
       "      <td>0</td>\n",
       "      <td>0</td>\n",
       "      <td>0</td>\n",
       "      <td>1</td>\n",
       "      <td>0</td>\n",
       "      <td>0</td>\n",
       "      <td>0</td>\n",
       "      <td>0</td>\n",
       "      <td>0</td>\n",
       "      <td>0</td>\n",
       "      <td>0</td>\n",
       "      <td>0</td>\n",
       "      <td>1</td>\n",
       "      <td>0</td>\n",
       "      <td>188207</td>\n",
       "      <td>2014-01-10</td>\n",
       "      <td>The Legend of Hercules</td>\n",
       "      <td>4.5</td>\n",
       "      <td>805</td>\n",
       "      <td>2014</td>\n",
       "      <td>writer</td>\n",
       "      <td>Sean Hood</td>\n",
       "      <td>1966.0</td>\n",
       "      <td>NaN</td>\n",
       "    </tr>\n",
       "    <tr>\n",
       "      <th>1</th>\n",
       "      <td>tt1043726</td>\n",
       "      <td>4.2</td>\n",
       "      <td>50352</td>\n",
       "      <td>The Legend of Hercules</td>\n",
       "      <td>The Legend of Hercules</td>\n",
       "      <td>2014</td>\n",
       "      <td>99.0</td>\n",
       "      <td>Action,Adventure,Fantasy</td>\n",
       "      <td>0</td>\n",
       "      <td>0</td>\n",
       "      <td>0</td>\n",
       "      <td>1</td>\n",
       "      <td>0</td>\n",
       "      <td>0</td>\n",
       "      <td>0</td>\n",
       "      <td>0</td>\n",
       "      <td>0</td>\n",
       "      <td>0</td>\n",
       "      <td>1</td>\n",
       "      <td>0</td>\n",
       "      <td>0</td>\n",
       "      <td>0</td>\n",
       "      <td>0</td>\n",
       "      <td>0</td>\n",
       "      <td>0</td>\n",
       "      <td>0</td>\n",
       "      <td>0</td>\n",
       "      <td>1</td>\n",
       "      <td>0</td>\n",
       "      <td>188207</td>\n",
       "      <td>2014-01-10</td>\n",
       "      <td>The Legend of Hercules</td>\n",
       "      <td>4.5</td>\n",
       "      <td>805</td>\n",
       "      <td>2014</td>\n",
       "      <td>writer</td>\n",
       "      <td>Daniel Giat</td>\n",
       "      <td>1955.0</td>\n",
       "      <td>NaN</td>\n",
       "    </tr>\n",
       "    <tr>\n",
       "      <th>2</th>\n",
       "      <td>tt1043726</td>\n",
       "      <td>4.2</td>\n",
       "      <td>50352</td>\n",
       "      <td>The Legend of Hercules</td>\n",
       "      <td>The Legend of Hercules</td>\n",
       "      <td>2014</td>\n",
       "      <td>99.0</td>\n",
       "      <td>Action,Adventure,Fantasy</td>\n",
       "      <td>0</td>\n",
       "      <td>0</td>\n",
       "      <td>0</td>\n",
       "      <td>1</td>\n",
       "      <td>0</td>\n",
       "      <td>0</td>\n",
       "      <td>0</td>\n",
       "      <td>0</td>\n",
       "      <td>0</td>\n",
       "      <td>0</td>\n",
       "      <td>1</td>\n",
       "      <td>0</td>\n",
       "      <td>0</td>\n",
       "      <td>0</td>\n",
       "      <td>0</td>\n",
       "      <td>0</td>\n",
       "      <td>0</td>\n",
       "      <td>0</td>\n",
       "      <td>0</td>\n",
       "      <td>1</td>\n",
       "      <td>0</td>\n",
       "      <td>188207</td>\n",
       "      <td>2014-01-10</td>\n",
       "      <td>The Legend of Hercules</td>\n",
       "      <td>4.5</td>\n",
       "      <td>805</td>\n",
       "      <td>2014</td>\n",
       "      <td>writer</td>\n",
       "      <td>Giulio Steve</td>\n",
       "      <td>NaN</td>\n",
       "      <td>NaN</td>\n",
       "    </tr>\n",
       "    <tr>\n",
       "      <th>3</th>\n",
       "      <td>tt1094666</td>\n",
       "      <td>7.0</td>\n",
       "      <td>1613</td>\n",
       "      <td>The Hammer</td>\n",
       "      <td>Hamill</td>\n",
       "      <td>2010</td>\n",
       "      <td>108.0</td>\n",
       "      <td>Biography,Drama,Sport</td>\n",
       "      <td>0</td>\n",
       "      <td>1</td>\n",
       "      <td>0</td>\n",
       "      <td>0</td>\n",
       "      <td>0</td>\n",
       "      <td>0</td>\n",
       "      <td>0</td>\n",
       "      <td>0</td>\n",
       "      <td>0</td>\n",
       "      <td>0</td>\n",
       "      <td>0</td>\n",
       "      <td>0</td>\n",
       "      <td>0</td>\n",
       "      <td>0</td>\n",
       "      <td>0</td>\n",
       "      <td>0</td>\n",
       "      <td>1</td>\n",
       "      <td>0</td>\n",
       "      <td>0</td>\n",
       "      <td>0</td>\n",
       "      <td>1</td>\n",
       "      <td>74447</td>\n",
       "      <td>2010-10-26</td>\n",
       "      <td>The Hammer</td>\n",
       "      <td>6.5</td>\n",
       "      <td>16</td>\n",
       "      <td>2010</td>\n",
       "      <td>writer</td>\n",
       "      <td>Eben Kostbar</td>\n",
       "      <td>NaN</td>\n",
       "      <td>NaN</td>\n",
       "    </tr>\n",
       "    <tr>\n",
       "      <th>4</th>\n",
       "      <td>tt1094666</td>\n",
       "      <td>7.0</td>\n",
       "      <td>1613</td>\n",
       "      <td>The Hammer</td>\n",
       "      <td>Hamill</td>\n",
       "      <td>2010</td>\n",
       "      <td>108.0</td>\n",
       "      <td>Biography,Drama,Sport</td>\n",
       "      <td>0</td>\n",
       "      <td>1</td>\n",
       "      <td>0</td>\n",
       "      <td>0</td>\n",
       "      <td>0</td>\n",
       "      <td>0</td>\n",
       "      <td>0</td>\n",
       "      <td>0</td>\n",
       "      <td>0</td>\n",
       "      <td>0</td>\n",
       "      <td>0</td>\n",
       "      <td>0</td>\n",
       "      <td>0</td>\n",
       "      <td>0</td>\n",
       "      <td>0</td>\n",
       "      <td>0</td>\n",
       "      <td>1</td>\n",
       "      <td>0</td>\n",
       "      <td>0</td>\n",
       "      <td>0</td>\n",
       "      <td>1</td>\n",
       "      <td>74447</td>\n",
       "      <td>2010-10-26</td>\n",
       "      <td>The Hammer</td>\n",
       "      <td>6.5</td>\n",
       "      <td>16</td>\n",
       "      <td>2010</td>\n",
       "      <td>writer</td>\n",
       "      <td>Joseph McKelheer</td>\n",
       "      <td>NaN</td>\n",
       "      <td>NaN</td>\n",
       "    </tr>\n",
       "  </tbody>\n",
       "</table>\n",
       "</div>"
      ],
      "text/plain": [
       "      tconst  averagerating  numvotes           primary_title  \\\n",
       "0  tt1043726            4.2     50352  The Legend of Hercules   \n",
       "1  tt1043726            4.2     50352  The Legend of Hercules   \n",
       "2  tt1043726            4.2     50352  The Legend of Hercules   \n",
       "3  tt1094666            7.0      1613              The Hammer   \n",
       "4  tt1094666            7.0      1613              The Hammer   \n",
       "\n",
       "           original_title  start_year  runtime_minutes  \\\n",
       "0  The Legend of Hercules        2014             99.0   \n",
       "1  The Legend of Hercules        2014             99.0   \n",
       "2  The Legend of Hercules        2014             99.0   \n",
       "3                  Hamill        2010            108.0   \n",
       "4                  Hamill        2010            108.0   \n",
       "\n",
       "                     genres  Animation  Sport  Mystery  Action  Comedy  \\\n",
       "0  Action,Adventure,Fantasy          0      0        0       1       0   \n",
       "1  Action,Adventure,Fantasy          0      0        0       1       0   \n",
       "2  Action,Adventure,Fantasy          0      0        0       1       0   \n",
       "3     Biography,Drama,Sport          0      1        0       0       0   \n",
       "4     Biography,Drama,Sport          0      1        0       0       0   \n",
       "\n",
       "   Documentary  Romance  News  War  Horror  Fantasy  Family  Music  Musical  \\\n",
       "0            0        0     0    0       0        1       0      0        0   \n",
       "1            0        0     0    0       0        1       0      0        0   \n",
       "2            0        0     0    0       0        1       0      0        0   \n",
       "3            0        0     0    0       0        0       0      0        0   \n",
       "4            0        0     0    0       0        0       0      0        0   \n",
       "\n",
       "   Sci-Fi  History  Biography  Thriller  Crime  Adventure  Drama      id  \\\n",
       "0       0        0          0         0      0          1      0  188207   \n",
       "1       0        0          0         0      0          1      0  188207   \n",
       "2       0        0          0         0      0          1      0  188207   \n",
       "3       0        0          1         0      0          0      1   74447   \n",
       "4       0        0          1         0      0          0      1   74447   \n",
       "\n",
       "  release_date                   title  vote_average  vote_count  Year  \\\n",
       "0   2014-01-10  The Legend of Hercules           4.5         805  2014   \n",
       "1   2014-01-10  The Legend of Hercules           4.5         805  2014   \n",
       "2   2014-01-10  The Legend of Hercules           4.5         805  2014   \n",
       "3   2010-10-26              The Hammer           6.5          16  2010   \n",
       "4   2010-10-26              The Hammer           6.5          16  2010   \n",
       "\n",
       "  category      primary_name  birth_year  death_year  \n",
       "0   writer         Sean Hood      1966.0         NaN  \n",
       "1   writer       Daniel Giat      1955.0         NaN  \n",
       "2   writer      Giulio Steve         NaN         NaN  \n",
       "3   writer      Eben Kostbar         NaN         NaN  \n",
       "4   writer  Joseph McKelheer         NaN         NaN  "
      ]
     },
     "execution_count": 4,
     "metadata": {},
     "output_type": "execute_result"
    }
   ],
   "source": [
    "print(Full.shape)\n",
    "print(Full.dtypes)\n",
    "Full.head()"
   ]
  },
  {
   "cell_type": "markdown",
   "metadata": {},
   "source": [
    "## EDA: "
   ]
  },
  {
   "cell_type": "markdown",
   "metadata": {},
   "source": [
    "First I took a look at some descriptive statistics and then tried a few visualizations to better see the central tendency and distribution of some of the key data (average ratings and number of ratings). Note that this helped me decide to proceed with just the IMDB data as it provided a better data set. Another advantage of using the IMDB data set is that they claim to have a weighted average score that helps filter out ballot stuffing.\n",
    "The below just shows the steps for the IMDB data set. "
   ]
  },
  {
   "cell_type": "code",
   "execution_count": 5,
   "metadata": {},
   "outputs": [
    {
     "data": {
      "text/plain": [
       "85"
      ]
     },
     "execution_count": 5,
     "metadata": {},
     "output_type": "execute_result"
    }
   ],
   "source": [
    "Full.averagerating.nunique()"
   ]
  },
  {
   "cell_type": "code",
   "execution_count": 6,
   "metadata": {},
   "outputs": [
    {
     "data": {
      "text/plain": [
       "0"
      ]
     },
     "execution_count": 6,
     "metadata": {},
     "output_type": "execute_result"
    }
   ],
   "source": [
    "Full.averagerating.isna().sum()"
   ]
  },
  {
   "cell_type": "code",
   "execution_count": 7,
   "metadata": {},
   "outputs": [
    {
     "data": {
      "text/plain": [
       "count    14219.000000\n",
       "mean         5.797173\n",
       "std          1.324626\n",
       "min          1.100000\n",
       "25%          5.000000\n",
       "50%          5.900000\n",
       "75%          6.700000\n",
       "max          9.500000\n",
       "Name: averagerating, dtype: float64"
      ]
     },
     "execution_count": 7,
     "metadata": {},
     "output_type": "execute_result"
    }
   ],
   "source": [
    "Full.averagerating.describe()"
   ]
  },
  {
   "cell_type": "code",
   "execution_count": 8,
   "metadata": {},
   "outputs": [
    {
     "data": {
      "text/plain": [
       "4030"
      ]
     },
     "execution_count": 8,
     "metadata": {},
     "output_type": "execute_result"
    }
   ],
   "source": [
    "Full.numvotes.nunique()"
   ]
  },
  {
   "cell_type": "code",
   "execution_count": 9,
   "metadata": {},
   "outputs": [
    {
     "data": {
      "text/plain": [
       "0"
      ]
     },
     "execution_count": 9,
     "metadata": {},
     "output_type": "execute_result"
    }
   ],
   "source": [
    "Full.numvotes.isna().sum()"
   ]
  },
  {
   "cell_type": "code",
   "execution_count": 10,
   "metadata": {},
   "outputs": [
    {
     "data": {
      "text/plain": [
       "count      14219\n",
       "mean       38723\n",
       "std       104064\n",
       "min            5\n",
       "25%          198\n",
       "50%         1403\n",
       "75%        17596\n",
       "max      1387769\n",
       "Name: numvotes, dtype: int64"
      ]
     },
     "execution_count": 10,
     "metadata": {},
     "output_type": "execute_result"
    }
   ],
   "source": [
    "Full.numvotes.describe().astype(int)"
   ]
  },
  {
   "cell_type": "code",
   "execution_count": 11,
   "metadata": {},
   "outputs": [
    {
     "data": {
      "text/plain": [
       "<matplotlib.axes._subplots.AxesSubplot at 0x10a3d2828>"
      ]
     },
     "execution_count": 11,
     "metadata": {},
     "output_type": "execute_result"
    },
    {
     "data": {
      "image/png": "[encoded data removed]",
      "text/plain": [
       "<Figure size 432x288 with 1 Axes>"
      ]
     },
     "metadata": {
      "needs_background": "light"
     },
     "output_type": "display_data"
    }
   ],
   "source": [
    "# Visualize the average ratings a little bit: as a box plot (median of 6 and more outliers on the lower end)\n",
    "boxplot = sns.boxplot(data=Full['averagerating'])\n",
    "boxplot"
   ]
  },
  {
   "cell_type": "code",
   "execution_count": 12,
   "metadata": {},
   "outputs": [
    {
     "data": {
      "text/plain": [
       "<matplotlib.axes._subplots.AxesSubplot at 0x1a208a6940>"
      ]
     },
     "execution_count": 12,
     "metadata": {},
     "output_type": "execute_result"
    },
    {
     "data": {
      "image/png": "[encoded data removed]",
      "text/plain": [
       "<Figure size 432x288 with 1 Axes>"
      ]
     },
     "metadata": {
      "needs_background": "light"
     },
     "output_type": "display_data"
    }
   ],
   "source": [
    "# Visualize this a little bit: as distribution plot (a fairly normal distribution; slight skew to the left)\n",
    "distplot = sns.distplot(a=Full[\"averagerating\"], bins=10)\n",
    "distplot"
   ]
  },
  {
   "cell_type": "code",
   "execution_count": 13,
   "metadata": {},
   "outputs": [
    {
     "data": {
      "text/plain": [
       "array([[<matplotlib.axes._subplots.AxesSubplot object at 0x1a21e5c470>]],\n",
       "      dtype=object)"
      ]
     },
     "execution_count": 13,
     "metadata": {},
     "output_type": "execute_result"
    },
    {
     "data": {
      "image/png": "[encoded data removed]",
      "text/plain": [
       "<Figure size 864x576 with 1 Axes>"
      ]
     },
     "metadata": {
      "needs_background": "light"
     },
     "output_type": "display_data"
    }
   ],
   "source": [
    "# Trying a different method of histogram as a comparison and to familiarize with different libraries. \n",
    "Full.hist(column='averagerating', bins=20, grid=False, figsize=(12,8), color='#86bf91', zorder=2, rwidth=0.9)"
   ]
  },
  {
   "cell_type": "markdown",
   "metadata": {},
   "source": [
    "### Initial df Pruning:"
   ]
  },
  {
   "cell_type": "markdown",
   "metadata": {},
   "source": [
    "Next step is to cut down the df (from 39 to 5 columns) to make it easier to see and work with. These steps included:\n",
    "1. Cut the df down to size for analysis of average rating and number of ratings\n",
    "2. Limited the release date of the movies to a 5 year period (2013 to 2018)\n",
    "3. Cut out movies with a low number of ratings (based on the IQR)\n",
    "4. Drop duplicate movies in the df (based on similaries in all columns)\n",
    "5. Sort primarily on average rating and secondarily on number of ratings. "
   ]
  },
  {
   "cell_type": "code",
   "execution_count": 14,
   "metadata": {},
   "outputs": [
    {
     "data": {
      "text/html": [
       "<div>\n",
       "<style scoped>\n",
       "    .dataframe tbody tr th:only-of-type {\n",
       "        vertical-align: middle;\n",
       "    }\n",
       "\n",
       "    .dataframe tbody tr th {\n",
       "        vertical-align: top;\n",
       "    }\n",
       "\n",
       "    .dataframe thead th {\n",
       "        text-align: right;\n",
       "    }\n",
       "</style>\n",
       "<table border=\"1\" class=\"dataframe\">\n",
       "  <thead>\n",
       "    <tr style=\"text-align: right;\">\n",
       "      <th></th>\n",
       "      <th>Year</th>\n",
       "      <th>primary_title</th>\n",
       "      <th>genres</th>\n",
       "      <th>averagerating</th>\n",
       "      <th>numvotes</th>\n",
       "    </tr>\n",
       "  </thead>\n",
       "  <tbody>\n",
       "    <tr>\n",
       "      <th>0</th>\n",
       "      <td>2014</td>\n",
       "      <td>The Legend of Hercules</td>\n",
       "      <td>Action,Adventure,Fantasy</td>\n",
       "      <td>4.2</td>\n",
       "      <td>50352</td>\n",
       "    </tr>\n",
       "    <tr>\n",
       "      <th>1</th>\n",
       "      <td>2014</td>\n",
       "      <td>The Legend of Hercules</td>\n",
       "      <td>Action,Adventure,Fantasy</td>\n",
       "      <td>4.2</td>\n",
       "      <td>50352</td>\n",
       "    </tr>\n",
       "    <tr>\n",
       "      <th>2</th>\n",
       "      <td>2014</td>\n",
       "      <td>The Legend of Hercules</td>\n",
       "      <td>Action,Adventure,Fantasy</td>\n",
       "      <td>4.2</td>\n",
       "      <td>50352</td>\n",
       "    </tr>\n",
       "    <tr>\n",
       "      <th>3</th>\n",
       "      <td>2010</td>\n",
       "      <td>The Hammer</td>\n",
       "      <td>Biography,Drama,Sport</td>\n",
       "      <td>7.0</td>\n",
       "      <td>1613</td>\n",
       "    </tr>\n",
       "    <tr>\n",
       "      <th>4</th>\n",
       "      <td>2010</td>\n",
       "      <td>The Hammer</td>\n",
       "      <td>Biography,Drama,Sport</td>\n",
       "      <td>7.0</td>\n",
       "      <td>1613</td>\n",
       "    </tr>\n",
       "  </tbody>\n",
       "</table>\n",
       "</div>"
      ],
      "text/plain": [
       "   Year           primary_title                    genres  averagerating  \\\n",
       "0  2014  The Legend of Hercules  Action,Adventure,Fantasy            4.2   \n",
       "1  2014  The Legend of Hercules  Action,Adventure,Fantasy            4.2   \n",
       "2  2014  The Legend of Hercules  Action,Adventure,Fantasy            4.2   \n",
       "3  2010              The Hammer     Biography,Drama,Sport            7.0   \n",
       "4  2010              The Hammer     Biography,Drama,Sport            7.0   \n",
       "\n",
       "   numvotes  \n",
       "0     50352  \n",
       "1     50352  \n",
       "2     50352  \n",
       "3      1613  \n",
       "4      1613  "
      ]
     },
     "execution_count": 14,
     "metadata": {},
     "output_type": "execute_result"
    }
   ],
   "source": [
    "# Removing unnecesary columns\n",
    "Ratings = Full[['Year', 'primary_title', 'genres', 'averagerating', 'numvotes']]\n",
    "Ratings.head()"
   ]
  },
  {
   "cell_type": "code",
   "execution_count": 15,
   "metadata": {},
   "outputs": [
    {
     "data": {
      "text/plain": [
       "2010    1082\n",
       "2011    1382\n",
       "2012    1280\n",
       "2013    1734\n",
       "2014    1697\n",
       "2015    1862\n",
       "2016    1851\n",
       "2017    1793\n",
       "2018    1538\n",
       "Name: Year, dtype: int64"
      ]
     },
     "execution_count": 15,
     "metadata": {},
     "output_type": "execute_result"
    }
   ],
   "source": [
    "Ratings.Year.value_counts().sort_index()"
   ]
  },
  {
   "cell_type": "code",
   "execution_count": 16,
   "metadata": {},
   "outputs": [
    {
     "name": "stdout",
     "output_type": "stream",
     "text": [
      "(10475, 5)\n"
     ]
    },
    {
     "data": {
      "text/html": [
       "<div>\n",
       "<style scoped>\n",
       "    .dataframe tbody tr th:only-of-type {\n",
       "        vertical-align: middle;\n",
       "    }\n",
       "\n",
       "    .dataframe tbody tr th {\n",
       "        vertical-align: top;\n",
       "    }\n",
       "\n",
       "    .dataframe thead th {\n",
       "        text-align: right;\n",
       "    }\n",
       "</style>\n",
       "<table border=\"1\" class=\"dataframe\">\n",
       "  <thead>\n",
       "    <tr style=\"text-align: right;\">\n",
       "      <th></th>\n",
       "      <th>Year</th>\n",
       "      <th>primary_title</th>\n",
       "      <th>genres</th>\n",
       "      <th>averagerating</th>\n",
       "      <th>numvotes</th>\n",
       "    </tr>\n",
       "  </thead>\n",
       "  <tbody>\n",
       "    <tr>\n",
       "      <th>0</th>\n",
       "      <td>2014</td>\n",
       "      <td>The Legend of Hercules</td>\n",
       "      <td>Action,Adventure,Fantasy</td>\n",
       "      <td>4.2</td>\n",
       "      <td>50352</td>\n",
       "    </tr>\n",
       "    <tr>\n",
       "      <th>1</th>\n",
       "      <td>2014</td>\n",
       "      <td>The Legend of Hercules</td>\n",
       "      <td>Action,Adventure,Fantasy</td>\n",
       "      <td>4.2</td>\n",
       "      <td>50352</td>\n",
       "    </tr>\n",
       "    <tr>\n",
       "      <th>2</th>\n",
       "      <td>2014</td>\n",
       "      <td>The Legend of Hercules</td>\n",
       "      <td>Action,Adventure,Fantasy</td>\n",
       "      <td>4.2</td>\n",
       "      <td>50352</td>\n",
       "    </tr>\n",
       "    <tr>\n",
       "      <th>26</th>\n",
       "      <td>2015</td>\n",
       "      <td>Paradox</td>\n",
       "      <td>Sci-Fi,Thriller</td>\n",
       "      <td>4.6</td>\n",
       "      <td>495</td>\n",
       "    </tr>\n",
       "    <tr>\n",
       "      <th>27</th>\n",
       "      <td>2015</td>\n",
       "      <td>Paradox</td>\n",
       "      <td>Sci-Fi,Thriller</td>\n",
       "      <td>4.6</td>\n",
       "      <td>495</td>\n",
       "    </tr>\n",
       "  </tbody>\n",
       "</table>\n",
       "</div>"
      ],
      "text/plain": [
       "    Year           primary_title                    genres  averagerating  \\\n",
       "0   2014  The Legend of Hercules  Action,Adventure,Fantasy            4.2   \n",
       "1   2014  The Legend of Hercules  Action,Adventure,Fantasy            4.2   \n",
       "2   2014  The Legend of Hercules  Action,Adventure,Fantasy            4.2   \n",
       "26  2015                 Paradox           Sci-Fi,Thriller            4.6   \n",
       "27  2015                 Paradox           Sci-Fi,Thriller            4.6   \n",
       "\n",
       "    numvotes  \n",
       "0      50352  \n",
       "1      50352  \n",
       "2      50352  \n",
       "26       495  \n",
       "27       495  "
      ]
     },
     "execution_count": 16,
     "metadata": {},
     "output_type": "execute_result"
    }
   ],
   "source": [
    "# Limit the Years to a 5-year period: 2013 - 2018\n",
    "Ratingsb = Ratings.loc[Ratings.Year >= 2013]\n",
    "print(Ratingsb.shape)\n",
    "Ratingsb.head()"
   ]
  },
  {
   "cell_type": "code",
   "execution_count": 17,
   "metadata": {},
   "outputs": [
    {
     "data": {
      "text/html": [
       "<div>\n",
       "<style scoped>\n",
       "    .dataframe tbody tr th:only-of-type {\n",
       "        vertical-align: middle;\n",
       "    }\n",
       "\n",
       "    .dataframe tbody tr th {\n",
       "        vertical-align: top;\n",
       "    }\n",
       "\n",
       "    .dataframe thead th {\n",
       "        text-align: right;\n",
       "    }\n",
       "</style>\n",
       "<table border=\"1\" class=\"dataframe\">\n",
       "  <thead>\n",
       "    <tr style=\"text-align: right;\">\n",
       "      <th></th>\n",
       "      <th>Year</th>\n",
       "      <th>primary_title</th>\n",
       "      <th>genres</th>\n",
       "      <th>averagerating</th>\n",
       "      <th>numvotes</th>\n",
       "    </tr>\n",
       "  </thead>\n",
       "  <tbody>\n",
       "    <tr>\n",
       "      <th>0</th>\n",
       "      <td>2014</td>\n",
       "      <td>The Legend of Hercules</td>\n",
       "      <td>Action,Adventure,Fantasy</td>\n",
       "      <td>4.2</td>\n",
       "      <td>50352</td>\n",
       "    </tr>\n",
       "    <tr>\n",
       "      <th>1</th>\n",
       "      <td>2014</td>\n",
       "      <td>The Legend of Hercules</td>\n",
       "      <td>Action,Adventure,Fantasy</td>\n",
       "      <td>4.2</td>\n",
       "      <td>50352</td>\n",
       "    </tr>\n",
       "    <tr>\n",
       "      <th>2</th>\n",
       "      <td>2014</td>\n",
       "      <td>The Legend of Hercules</td>\n",
       "      <td>Action,Adventure,Fantasy</td>\n",
       "      <td>4.2</td>\n",
       "      <td>50352</td>\n",
       "    </tr>\n",
       "    <tr>\n",
       "      <th>26</th>\n",
       "      <td>2015</td>\n",
       "      <td>Paradox</td>\n",
       "      <td>Sci-Fi,Thriller</td>\n",
       "      <td>4.6</td>\n",
       "      <td>495</td>\n",
       "    </tr>\n",
       "    <tr>\n",
       "      <th>27</th>\n",
       "      <td>2015</td>\n",
       "      <td>Paradox</td>\n",
       "      <td>Sci-Fi,Thriller</td>\n",
       "      <td>4.6</td>\n",
       "      <td>495</td>\n",
       "    </tr>\n",
       "  </tbody>\n",
       "</table>\n",
       "</div>"
      ],
      "text/plain": [
       "    Year           primary_title                    genres  averagerating  \\\n",
       "0   2014  The Legend of Hercules  Action,Adventure,Fantasy            4.2   \n",
       "1   2014  The Legend of Hercules  Action,Adventure,Fantasy            4.2   \n",
       "2   2014  The Legend of Hercules  Action,Adventure,Fantasy            4.2   \n",
       "26  2015                 Paradox           Sci-Fi,Thriller            4.6   \n",
       "27  2015                 Paradox           Sci-Fi,Thriller            4.6   \n",
       "\n",
       "    numvotes  \n",
       "0      50352  \n",
       "1      50352  \n",
       "2      50352  \n",
       "26       495  \n",
       "27       495  "
      ]
     },
     "execution_count": 17,
     "metadata": {},
     "output_type": "execute_result"
    }
   ],
   "source": [
    "# Do an initial sort of ratings and numvotes\n",
    "Ratingsb.sort_values(['averagerating','numvotes'], ascending=[False, False])\n",
    "Ratingsb.head()"
   ]
  },
  {
   "cell_type": "code",
   "execution_count": 18,
   "metadata": {},
   "outputs": [
    {
     "data": {
      "text/html": [
       "<div>\n",
       "<style scoped>\n",
       "    .dataframe tbody tr th:only-of-type {\n",
       "        vertical-align: middle;\n",
       "    }\n",
       "\n",
       "    .dataframe tbody tr th {\n",
       "        vertical-align: top;\n",
       "    }\n",
       "\n",
       "    .dataframe thead th {\n",
       "        text-align: right;\n",
       "    }\n",
       "</style>\n",
       "<table border=\"1\" class=\"dataframe\">\n",
       "  <thead>\n",
       "    <tr style=\"text-align: right;\">\n",
       "      <th></th>\n",
       "      <th>Year</th>\n",
       "      <th>primary_title</th>\n",
       "      <th>genres</th>\n",
       "      <th>averagerating</th>\n",
       "      <th>numvotes</th>\n",
       "    </tr>\n",
       "  </thead>\n",
       "  <tbody>\n",
       "    <tr>\n",
       "      <th>6130</th>\n",
       "      <td>2014</td>\n",
       "      <td>Interstellar</td>\n",
       "      <td>Adventure,Drama,Sci-Fi</td>\n",
       "      <td>8.6</td>\n",
       "      <td>1299334</td>\n",
       "    </tr>\n",
       "    <tr>\n",
       "      <th>8954</th>\n",
       "      <td>2013</td>\n",
       "      <td>The Wolf of Wall Street</td>\n",
       "      <td>Biography,Crime,Drama</td>\n",
       "      <td>8.2</td>\n",
       "      <td>1035358</td>\n",
       "    </tr>\n",
       "    <tr>\n",
       "      <th>8955</th>\n",
       "      <td>2013</td>\n",
       "      <td>The Wolf of Wall Street</td>\n",
       "      <td>Biography,Crime,Drama</td>\n",
       "      <td>8.2</td>\n",
       "      <td>1035358</td>\n",
       "    </tr>\n",
       "    <tr>\n",
       "      <th>6339</th>\n",
       "      <td>2014</td>\n",
       "      <td>Guardians of the Galaxy</td>\n",
       "      <td>Action,Adventure,Comedy</td>\n",
       "      <td>8.1</td>\n",
       "      <td>948394</td>\n",
       "    </tr>\n",
       "    <tr>\n",
       "      <th>6342</th>\n",
       "      <td>2014</td>\n",
       "      <td>Guardians of the Galaxy</td>\n",
       "      <td>Action,Adventure,Comedy</td>\n",
       "      <td>8.1</td>\n",
       "      <td>948394</td>\n",
       "    </tr>\n",
       "  </tbody>\n",
       "</table>\n",
       "</div>"
      ],
      "text/plain": [
       "      Year            primary_title                   genres  averagerating  \\\n",
       "6130  2014             Interstellar   Adventure,Drama,Sci-Fi            8.6   \n",
       "8954  2013  The Wolf of Wall Street    Biography,Crime,Drama            8.2   \n",
       "8955  2013  The Wolf of Wall Street    Biography,Crime,Drama            8.2   \n",
       "6339  2014  Guardians of the Galaxy  Action,Adventure,Comedy            8.1   \n",
       "6342  2014  Guardians of the Galaxy  Action,Adventure,Comedy            8.1   \n",
       "\n",
       "      numvotes  \n",
       "6130   1299334  \n",
       "8954   1035358  \n",
       "8955   1035358  \n",
       "6339    948394  \n",
       "6342    948394  "
      ]
     },
     "execution_count": 18,
     "metadata": {},
     "output_type": "execute_result"
    }
   ],
   "source": [
    "# Data above is odd.. why a bunch of documentaries? \n",
    "# Lets look at just descending order for numvotes - as a gauge of popularity? \n",
    "Ratingsc= Ratingsb.sort_values(['numvotes'], ascending=False)\n",
    "Ratingsc.head()"
   ]
  },
  {
   "cell_type": "code",
   "execution_count": 19,
   "metadata": {},
   "outputs": [
    {
     "data": {
      "text/plain": [
       "5483"
      ]
     },
     "execution_count": 19,
     "metadata": {},
     "output_type": "execute_result"
    }
   ],
   "source": [
    "# Ok, that helps... so now let me try and get rid of duplicates...see what that will do, before commiting to it\n",
    "Ratingsc.primary_title.duplicated().sum()"
   ]
  },
  {
   "cell_type": "code",
   "execution_count": 20,
   "metadata": {},
   "outputs": [
    {
     "data": {
      "text/html": [
       "<div>\n",
       "<style scoped>\n",
       "    .dataframe tbody tr th:only-of-type {\n",
       "        vertical-align: middle;\n",
       "    }\n",
       "\n",
       "    .dataframe tbody tr th {\n",
       "        vertical-align: top;\n",
       "    }\n",
       "\n",
       "    .dataframe thead th {\n",
       "        text-align: right;\n",
       "    }\n",
       "</style>\n",
       "<table border=\"1\" class=\"dataframe\">\n",
       "  <thead>\n",
       "    <tr style=\"text-align: right;\">\n",
       "      <th></th>\n",
       "      <th>Year</th>\n",
       "      <th>primary_title</th>\n",
       "      <th>genres</th>\n",
       "      <th>averagerating</th>\n",
       "      <th>numvotes</th>\n",
       "    </tr>\n",
       "  </thead>\n",
       "  <tbody>\n",
       "    <tr>\n",
       "      <th>6130</th>\n",
       "      <td>2014</td>\n",
       "      <td>Interstellar</td>\n",
       "      <td>Adventure,Drama,Sci-Fi</td>\n",
       "      <td>8.6</td>\n",
       "      <td>1299334</td>\n",
       "    </tr>\n",
       "    <tr>\n",
       "      <th>8954</th>\n",
       "      <td>2013</td>\n",
       "      <td>The Wolf of Wall Street</td>\n",
       "      <td>Biography,Crime,Drama</td>\n",
       "      <td>8.2</td>\n",
       "      <td>1035358</td>\n",
       "    </tr>\n",
       "    <tr>\n",
       "      <th>6339</th>\n",
       "      <td>2014</td>\n",
       "      <td>Guardians of the Galaxy</td>\n",
       "      <td>Action,Adventure,Comedy</td>\n",
       "      <td>8.1</td>\n",
       "      <td>948394</td>\n",
       "    </tr>\n",
       "    <tr>\n",
       "      <th>12453</th>\n",
       "      <td>2016</td>\n",
       "      <td>Deadpool</td>\n",
       "      <td>Action,Adventure,Comedy</td>\n",
       "      <td>8.0</td>\n",
       "      <td>820847</td>\n",
       "    </tr>\n",
       "    <tr>\n",
       "      <th>1133</th>\n",
       "      <td>2015</td>\n",
       "      <td>Mad Max: Fury Road</td>\n",
       "      <td>Action,Adventure,Sci-Fi</td>\n",
       "      <td>8.1</td>\n",
       "      <td>780910</td>\n",
       "    </tr>\n",
       "  </tbody>\n",
       "</table>\n",
       "</div>"
      ],
      "text/plain": [
       "       Year            primary_title                   genres  averagerating  \\\n",
       "6130   2014             Interstellar   Adventure,Drama,Sci-Fi            8.6   \n",
       "8954   2013  The Wolf of Wall Street    Biography,Crime,Drama            8.2   \n",
       "6339   2014  Guardians of the Galaxy  Action,Adventure,Comedy            8.1   \n",
       "12453  2016                 Deadpool  Action,Adventure,Comedy            8.0   \n",
       "1133   2015       Mad Max: Fury Road  Action,Adventure,Sci-Fi            8.1   \n",
       "\n",
       "       numvotes  \n",
       "6130    1299334  \n",
       "8954    1035358  \n",
       "6339     948394  \n",
       "12453    820847  \n",
       "1133     780910  "
      ]
     },
     "execution_count": 20,
     "metadata": {},
     "output_type": "execute_result"
    }
   ],
   "source": [
    "# Ok, I will get rid of duplicates on the whole df\n",
    "Ratingsd = Ratingsc.drop_duplicates(keep='first')\n",
    "Ratingsd.head()\n",
    "# It mostly worked? Still have some duplicate titles. "
   ]
  },
  {
   "cell_type": "markdown",
   "metadata": {},
   "source": [
    "### Getting data ready for vizualization\n",
    "Not sure if this was necessary, seemed that I needed a small df to indicate how many things should be in the plot. There is likely a way to select the number of rows to plot... but time was up. "
   ]
  },
  {
   "cell_type": "code",
   "execution_count": 21,
   "metadata": {},
   "outputs": [
    {
     "data": {
      "text/html": [
       "<div>\n",
       "<style scoped>\n",
       "    .dataframe tbody tr th:only-of-type {\n",
       "        vertical-align: middle;\n",
       "    }\n",
       "\n",
       "    .dataframe tbody tr th {\n",
       "        vertical-align: top;\n",
       "    }\n",
       "\n",
       "    .dataframe thead th {\n",
       "        text-align: right;\n",
       "    }\n",
       "</style>\n",
       "<table border=\"1\" class=\"dataframe\">\n",
       "  <thead>\n",
       "    <tr style=\"text-align: right;\">\n",
       "      <th></th>\n",
       "      <th>Year</th>\n",
       "      <th>primary_title</th>\n",
       "      <th>genres</th>\n",
       "      <th>averagerating</th>\n",
       "      <th>numvotes</th>\n",
       "    </tr>\n",
       "  </thead>\n",
       "  <tbody>\n",
       "    <tr>\n",
       "      <th>6130</th>\n",
       "      <td>2014</td>\n",
       "      <td>Interstellar</td>\n",
       "      <td>Adventure,Drama,Sci-Fi</td>\n",
       "      <td>8.6</td>\n",
       "      <td>1299334</td>\n",
       "    </tr>\n",
       "    <tr>\n",
       "      <th>8954</th>\n",
       "      <td>2013</td>\n",
       "      <td>The Wolf of Wall Street</td>\n",
       "      <td>Biography,Crime,Drama</td>\n",
       "      <td>8.2</td>\n",
       "      <td>1035358</td>\n",
       "    </tr>\n",
       "    <tr>\n",
       "      <th>6339</th>\n",
       "      <td>2014</td>\n",
       "      <td>Guardians of the Galaxy</td>\n",
       "      <td>Action,Adventure,Comedy</td>\n",
       "      <td>8.1</td>\n",
       "      <td>948394</td>\n",
       "    </tr>\n",
       "    <tr>\n",
       "      <th>12453</th>\n",
       "      <td>2016</td>\n",
       "      <td>Deadpool</td>\n",
       "      <td>Action,Adventure,Comedy</td>\n",
       "      <td>8.0</td>\n",
       "      <td>820847</td>\n",
       "    </tr>\n",
       "    <tr>\n",
       "      <th>1133</th>\n",
       "      <td>2015</td>\n",
       "      <td>Mad Max: Fury Road</td>\n",
       "      <td>Action,Adventure,Sci-Fi</td>\n",
       "      <td>8.1</td>\n",
       "      <td>780910</td>\n",
       "    </tr>\n",
       "  </tbody>\n",
       "</table>\n",
       "</div>"
      ],
      "text/plain": [
       "       Year            primary_title                   genres  averagerating  \\\n",
       "6130   2014             Interstellar   Adventure,Drama,Sci-Fi            8.6   \n",
       "8954   2013  The Wolf of Wall Street    Biography,Crime,Drama            8.2   \n",
       "6339   2014  Guardians of the Galaxy  Action,Adventure,Comedy            8.1   \n",
       "12453  2016                 Deadpool  Action,Adventure,Comedy            8.0   \n",
       "1133   2015       Mad Max: Fury Road  Action,Adventure,Sci-Fi            8.1   \n",
       "\n",
       "       numvotes  \n",
       "6130    1299334  \n",
       "8954    1035358  \n",
       "6339     948394  \n",
       "12453    820847  \n",
       "1133     780910  "
      ]
     },
     "execution_count": 21,
     "metadata": {},
     "output_type": "execute_result"
    }
   ],
   "source": [
    "# Need to get data in shape for plotting...by cutting it down to 20 rows.\n",
    "Ratingse = Ratingsd.iloc[0:20, :]\n",
    "Ratingse.head()"
   ]
  },
  {
   "cell_type": "code",
   "execution_count": 22,
   "metadata": {},
   "outputs": [
    {
     "data": {
      "text/html": [
       "<div>\n",
       "<style scoped>\n",
       "    .dataframe tbody tr th:only-of-type {\n",
       "        vertical-align: middle;\n",
       "    }\n",
       "\n",
       "    .dataframe tbody tr th {\n",
       "        vertical-align: top;\n",
       "    }\n",
       "\n",
       "    .dataframe thead th {\n",
       "        text-align: right;\n",
       "    }\n",
       "</style>\n",
       "<table border=\"1\" class=\"dataframe\">\n",
       "  <thead>\n",
       "    <tr style=\"text-align: right;\">\n",
       "      <th></th>\n",
       "      <th>Year</th>\n",
       "      <th>genres</th>\n",
       "      <th>averagerating</th>\n",
       "      <th>numvotes</th>\n",
       "    </tr>\n",
       "    <tr>\n",
       "      <th>primary_title</th>\n",
       "      <th></th>\n",
       "      <th></th>\n",
       "      <th></th>\n",
       "      <th></th>\n",
       "    </tr>\n",
       "  </thead>\n",
       "  <tbody>\n",
       "    <tr>\n",
       "      <th>Interstellar</th>\n",
       "      <td>2014</td>\n",
       "      <td>Adventure,Drama,Sci-Fi</td>\n",
       "      <td>8.6</td>\n",
       "      <td>1299334</td>\n",
       "    </tr>\n",
       "    <tr>\n",
       "      <th>The Wolf of Wall Street</th>\n",
       "      <td>2013</td>\n",
       "      <td>Biography,Crime,Drama</td>\n",
       "      <td>8.2</td>\n",
       "      <td>1035358</td>\n",
       "    </tr>\n",
       "    <tr>\n",
       "      <th>Guardians of the Galaxy</th>\n",
       "      <td>2014</td>\n",
       "      <td>Action,Adventure,Comedy</td>\n",
       "      <td>8.1</td>\n",
       "      <td>948394</td>\n",
       "    </tr>\n",
       "    <tr>\n",
       "      <th>Deadpool</th>\n",
       "      <td>2016</td>\n",
       "      <td>Action,Adventure,Comedy</td>\n",
       "      <td>8.0</td>\n",
       "      <td>820847</td>\n",
       "    </tr>\n",
       "    <tr>\n",
       "      <th>Mad Max: Fury Road</th>\n",
       "      <td>2015</td>\n",
       "      <td>Action,Adventure,Sci-Fi</td>\n",
       "      <td>8.1</td>\n",
       "      <td>780910</td>\n",
       "    </tr>\n",
       "  </tbody>\n",
       "</table>\n",
       "</div>"
      ],
      "text/plain": [
       "                         Year                   genres  averagerating  \\\n",
       "primary_title                                                           \n",
       "Interstellar             2014   Adventure,Drama,Sci-Fi            8.6   \n",
       "The Wolf of Wall Street  2013    Biography,Crime,Drama            8.2   \n",
       "Guardians of the Galaxy  2014  Action,Adventure,Comedy            8.1   \n",
       "Deadpool                 2016  Action,Adventure,Comedy            8.0   \n",
       "Mad Max: Fury Road       2015  Action,Adventure,Sci-Fi            8.1   \n",
       "\n",
       "                         numvotes  \n",
       "primary_title                      \n",
       "Interstellar              1299334  \n",
       "The Wolf of Wall Street   1035358  \n",
       "Guardians of the Galaxy    948394  \n",
       "Deadpool                   820847  \n",
       "Mad Max: Fury Road         780910  "
      ]
     },
     "execution_count": 22,
     "metadata": {},
     "output_type": "execute_result"
    }
   ],
   "source": [
    "# Changing the axis for plotting... saw an example of this in a video and assumed it would make the plotting work. \n",
    "Ratingse.set_index('primary_title', inplace=True)\n",
    "Ratingse.head()"
   ]
  },
  {
   "cell_type": "markdown",
   "metadata": {},
   "source": [
    "#### Getting a second plotting df ready\n",
    "I created a second df for the second part of the question... which movies have the highest average customer rating. Similar steps were followed to limit the number of rows, column sorting, and getting rid of low number of votes to improve sorting. "
   ]
  },
  {
   "cell_type": "code",
   "execution_count": 23,
   "metadata": {},
   "outputs": [
    {
     "data": {
      "text/html": [
       "<div>\n",
       "<style scoped>\n",
       "    .dataframe tbody tr th:only-of-type {\n",
       "        vertical-align: middle;\n",
       "    }\n",
       "\n",
       "    .dataframe tbody tr th {\n",
       "        vertical-align: top;\n",
       "    }\n",
       "\n",
       "    .dataframe thead th {\n",
       "        text-align: right;\n",
       "    }\n",
       "</style>\n",
       "<table border=\"1\" class=\"dataframe\">\n",
       "  <thead>\n",
       "    <tr style=\"text-align: right;\">\n",
       "      <th></th>\n",
       "      <th>Year</th>\n",
       "      <th>primary_title</th>\n",
       "      <th>genres</th>\n",
       "      <th>averagerating</th>\n",
       "      <th>numvotes</th>\n",
       "    </tr>\n",
       "  </thead>\n",
       "  <tbody>\n",
       "    <tr>\n",
       "      <th>6130</th>\n",
       "      <td>2014</td>\n",
       "      <td>Interstellar</td>\n",
       "      <td>Adventure,Drama,Sci-Fi</td>\n",
       "      <td>8.6</td>\n",
       "      <td>1299334</td>\n",
       "    </tr>\n",
       "    <tr>\n",
       "      <th>8954</th>\n",
       "      <td>2013</td>\n",
       "      <td>The Wolf of Wall Street</td>\n",
       "      <td>Biography,Crime,Drama</td>\n",
       "      <td>8.2</td>\n",
       "      <td>1035358</td>\n",
       "    </tr>\n",
       "    <tr>\n",
       "      <th>6339</th>\n",
       "      <td>2014</td>\n",
       "      <td>Guardians of the Galaxy</td>\n",
       "      <td>Action,Adventure,Comedy</td>\n",
       "      <td>8.1</td>\n",
       "      <td>948394</td>\n",
       "    </tr>\n",
       "    <tr>\n",
       "      <th>12453</th>\n",
       "      <td>2016</td>\n",
       "      <td>Deadpool</td>\n",
       "      <td>Action,Adventure,Comedy</td>\n",
       "      <td>8.0</td>\n",
       "      <td>820847</td>\n",
       "    </tr>\n",
       "    <tr>\n",
       "      <th>1133</th>\n",
       "      <td>2015</td>\n",
       "      <td>Mad Max: Fury Road</td>\n",
       "      <td>Action,Adventure,Sci-Fi</td>\n",
       "      <td>8.1</td>\n",
       "      <td>780910</td>\n",
       "    </tr>\n",
       "  </tbody>\n",
       "</table>\n",
       "</div>"
      ],
      "text/plain": [
       "       Year            primary_title                   genres  averagerating  \\\n",
       "6130   2014             Interstellar   Adventure,Drama,Sci-Fi            8.6   \n",
       "8954   2013  The Wolf of Wall Street    Biography,Crime,Drama            8.2   \n",
       "6339   2014  Guardians of the Galaxy  Action,Adventure,Comedy            8.1   \n",
       "12453  2016                 Deadpool  Action,Adventure,Comedy            8.0   \n",
       "1133   2015       Mad Max: Fury Road  Action,Adventure,Sci-Fi            8.1   \n",
       "\n",
       "       numvotes  \n",
       "6130    1299334  \n",
       "8954    1035358  \n",
       "6339     948394  \n",
       "12453    820847  \n",
       "1133     780910  "
      ]
     },
     "execution_count": 23,
     "metadata": {},
     "output_type": "execute_result"
    }
   ],
   "source": [
    "# 3rd approach to filter out lower values... this time it worked. \n",
    "Ratings_high = Ratingsd.loc[Ratingsd.numvotes >= 17596]\n",
    "Ratings_high.head()"
   ]
  },
  {
   "cell_type": "code",
   "execution_count": 24,
   "metadata": {},
   "outputs": [
    {
     "data": {
      "text/plain": [
       "(959, 5)"
      ]
     },
     "execution_count": 24,
     "metadata": {},
     "output_type": "execute_result"
    }
   ],
   "source": [
    "Ratings_high.shape"
   ]
  },
  {
   "cell_type": "code",
   "execution_count": 25,
   "metadata": {},
   "outputs": [
    {
     "name": "stderr",
     "output_type": "stream",
     "text": [
      "/Users/markp/opt/anaconda3/envs/learn-env/lib/python3.6/site-packages/ipykernel_launcher.py:2: SettingWithCopyWarning: \n",
      "A value is trying to be set on a copy of a slice from a DataFrame\n",
      "\n",
      "See the caveats in the documentation: http://pandas.pydata.org/pandas-docs/stable/user_guide/indexing.html#returning-a-view-versus-a-copy\n",
      "  \n"
     ]
    },
    {
     "data": {
      "text/html": [
       "<div>\n",
       "<style scoped>\n",
       "    .dataframe tbody tr th:only-of-type {\n",
       "        vertical-align: middle;\n",
       "    }\n",
       "\n",
       "    .dataframe tbody tr th {\n",
       "        vertical-align: top;\n",
       "    }\n",
       "\n",
       "    .dataframe thead th {\n",
       "        text-align: right;\n",
       "    }\n",
       "</style>\n",
       "<table border=\"1\" class=\"dataframe\">\n",
       "  <thead>\n",
       "    <tr style=\"text-align: right;\">\n",
       "      <th></th>\n",
       "      <th>Year</th>\n",
       "      <th>primary_title</th>\n",
       "      <th>genres</th>\n",
       "      <th>averagerating</th>\n",
       "      <th>numvotes</th>\n",
       "    </tr>\n",
       "  </thead>\n",
       "  <tbody>\n",
       "    <tr>\n",
       "      <th>6130</th>\n",
       "      <td>2014</td>\n",
       "      <td>Interstellar</td>\n",
       "      <td>Adventure,Drama,Sci-Fi</td>\n",
       "      <td>8.6</td>\n",
       "      <td>1299334</td>\n",
       "    </tr>\n",
       "    <tr>\n",
       "      <th>13968</th>\n",
       "      <td>2018</td>\n",
       "      <td>Avengers: Infinity War</td>\n",
       "      <td>Action,Adventure,Sci-Fi</td>\n",
       "      <td>8.5</td>\n",
       "      <td>670926</td>\n",
       "    </tr>\n",
       "    <tr>\n",
       "      <th>7861</th>\n",
       "      <td>2018</td>\n",
       "      <td>Spider-Man: Into the Spider-Verse</td>\n",
       "      <td>Action,Adventure,Animation</td>\n",
       "      <td>8.5</td>\n",
       "      <td>210869</td>\n",
       "    </tr>\n",
       "    <tr>\n",
       "      <th>8098</th>\n",
       "      <td>2017</td>\n",
       "      <td>Coco</td>\n",
       "      <td>Adventure,Animation,Comedy</td>\n",
       "      <td>8.4</td>\n",
       "      <td>277194</td>\n",
       "    </tr>\n",
       "    <tr>\n",
       "      <th>2737</th>\n",
       "      <td>2014</td>\n",
       "      <td>The Hunt</td>\n",
       "      <td>Drama</td>\n",
       "      <td>8.3</td>\n",
       "      <td>242765</td>\n",
       "    </tr>\n",
       "  </tbody>\n",
       "</table>\n",
       "</div>"
      ],
      "text/plain": [
       "       Year                      primary_title                      genres  \\\n",
       "6130   2014                       Interstellar      Adventure,Drama,Sci-Fi   \n",
       "13968  2018             Avengers: Infinity War     Action,Adventure,Sci-Fi   \n",
       "7861   2018  Spider-Man: Into the Spider-Verse  Action,Adventure,Animation   \n",
       "8098   2017                               Coco  Adventure,Animation,Comedy   \n",
       "2737   2014                           The Hunt                       Drama   \n",
       "\n",
       "       averagerating  numvotes  \n",
       "6130             8.6   1299334  \n",
       "13968            8.5    670926  \n",
       "7861             8.5    210869  \n",
       "8098             8.4    277194  \n",
       "2737             8.3    242765  "
      ]
     },
     "execution_count": 25,
     "metadata": {},
     "output_type": "execute_result"
    }
   ],
   "source": [
    "# Now to sort it on my 2 columns. \n",
    "Ratings_high.sort_values(['averagerating','numvotes'], ascending=[False, False], inplace=True)\n",
    "Ratings_high.head()\n",
    "# Did that work right? Why sorting numvotes 1st? "
   ]
  },
  {
   "cell_type": "code",
   "execution_count": 44,
   "metadata": {},
   "outputs": [
    {
     "data": {
      "text/html": [
       "<div>\n",
       "<style scoped>\n",
       "    .dataframe tbody tr th:only-of-type {\n",
       "        vertical-align: middle;\n",
       "    }\n",
       "\n",
       "    .dataframe tbody tr th {\n",
       "        vertical-align: top;\n",
       "    }\n",
       "\n",
       "    .dataframe thead th {\n",
       "        text-align: right;\n",
       "    }\n",
       "</style>\n",
       "<table border=\"1\" class=\"dataframe\">\n",
       "  <thead>\n",
       "    <tr style=\"text-align: right;\">\n",
       "      <th></th>\n",
       "      <th>Year</th>\n",
       "      <th>primary_title</th>\n",
       "      <th>genres</th>\n",
       "      <th>averagerating</th>\n",
       "      <th>numvotes</th>\n",
       "    </tr>\n",
       "  </thead>\n",
       "  <tbody>\n",
       "    <tr>\n",
       "      <th>6130</th>\n",
       "      <td>2014</td>\n",
       "      <td>Interstellar</td>\n",
       "      <td>Adventure,Drama,Sci-Fi</td>\n",
       "      <td>8.6</td>\n",
       "      <td>1299334</td>\n",
       "    </tr>\n",
       "    <tr>\n",
       "      <th>13968</th>\n",
       "      <td>2018</td>\n",
       "      <td>Avengers: Infinity War</td>\n",
       "      <td>Action,Adventure,Sci-Fi</td>\n",
       "      <td>8.5</td>\n",
       "      <td>670926</td>\n",
       "    </tr>\n",
       "    <tr>\n",
       "      <th>7861</th>\n",
       "      <td>2018</td>\n",
       "      <td>Spider-Man: Into the Spider-Verse</td>\n",
       "      <td>Action,Adventure,Animation</td>\n",
       "      <td>8.5</td>\n",
       "      <td>210869</td>\n",
       "    </tr>\n",
       "    <tr>\n",
       "      <th>8098</th>\n",
       "      <td>2017</td>\n",
       "      <td>Coco</td>\n",
       "      <td>Adventure,Animation,Comedy</td>\n",
       "      <td>8.4</td>\n",
       "      <td>277194</td>\n",
       "    </tr>\n",
       "    <tr>\n",
       "      <th>2737</th>\n",
       "      <td>2014</td>\n",
       "      <td>The Hunt</td>\n",
       "      <td>Drama</td>\n",
       "      <td>8.3</td>\n",
       "      <td>242765</td>\n",
       "    </tr>\n",
       "  </tbody>\n",
       "</table>\n",
       "</div>"
      ],
      "text/plain": [
       "       Year                      primary_title                      genres  \\\n",
       "6130   2014                       Interstellar      Adventure,Drama,Sci-Fi   \n",
       "13968  2018             Avengers: Infinity War     Action,Adventure,Sci-Fi   \n",
       "7861   2018  Spider-Man: Into the Spider-Verse  Action,Adventure,Animation   \n",
       "8098   2017                               Coco  Adventure,Animation,Comedy   \n",
       "2737   2014                           The Hunt                       Drama   \n",
       "\n",
       "       averagerating  numvotes  \n",
       "6130             8.6   1299334  \n",
       "13968            8.5    670926  \n",
       "7861             8.5    210869  \n",
       "8098             8.4    277194  \n",
       "2737             8.3    242765  "
      ]
     },
     "execution_count": 44,
     "metadata": {},
     "output_type": "execute_result"
    }
   ],
   "source": [
    "# Need to get data in shape for plotting...limit rows\n",
    "Ratings_high2 = Ratings_high.iloc[0:20, :]\n",
    "Ratings_high2.head()"
   ]
  },
  {
   "cell_type": "code",
   "execution_count": 45,
   "metadata": {},
   "outputs": [
    {
     "data": {
      "text/html": [
       "<div>\n",
       "<style scoped>\n",
       "    .dataframe tbody tr th:only-of-type {\n",
       "        vertical-align: middle;\n",
       "    }\n",
       "\n",
       "    .dataframe tbody tr th {\n",
       "        vertical-align: top;\n",
       "    }\n",
       "\n",
       "    .dataframe thead th {\n",
       "        text-align: right;\n",
       "    }\n",
       "</style>\n",
       "<table border=\"1\" class=\"dataframe\">\n",
       "  <thead>\n",
       "    <tr style=\"text-align: right;\">\n",
       "      <th></th>\n",
       "      <th>Year</th>\n",
       "      <th>genres</th>\n",
       "      <th>averagerating</th>\n",
       "      <th>numvotes</th>\n",
       "    </tr>\n",
       "    <tr>\n",
       "      <th>primary_title</th>\n",
       "      <th></th>\n",
       "      <th></th>\n",
       "      <th></th>\n",
       "      <th></th>\n",
       "    </tr>\n",
       "  </thead>\n",
       "  <tbody>\n",
       "    <tr>\n",
       "      <th>Interstellar</th>\n",
       "      <td>2014</td>\n",
       "      <td>Adventure,Drama,Sci-Fi</td>\n",
       "      <td>8.6</td>\n",
       "      <td>1299334</td>\n",
       "    </tr>\n",
       "    <tr>\n",
       "      <th>Avengers: Infinity War</th>\n",
       "      <td>2018</td>\n",
       "      <td>Action,Adventure,Sci-Fi</td>\n",
       "      <td>8.5</td>\n",
       "      <td>670926</td>\n",
       "    </tr>\n",
       "    <tr>\n",
       "      <th>Spider-Man: Into the Spider-Verse</th>\n",
       "      <td>2018</td>\n",
       "      <td>Action,Adventure,Animation</td>\n",
       "      <td>8.5</td>\n",
       "      <td>210869</td>\n",
       "    </tr>\n",
       "    <tr>\n",
       "      <th>Coco</th>\n",
       "      <td>2017</td>\n",
       "      <td>Adventure,Animation,Comedy</td>\n",
       "      <td>8.4</td>\n",
       "      <td>277194</td>\n",
       "    </tr>\n",
       "    <tr>\n",
       "      <th>The Hunt</th>\n",
       "      <td>2014</td>\n",
       "      <td>Drama</td>\n",
       "      <td>8.3</td>\n",
       "      <td>242765</td>\n",
       "    </tr>\n",
       "  </tbody>\n",
       "</table>\n",
       "</div>"
      ],
      "text/plain": [
       "                                   Year                      genres  \\\n",
       "primary_title                                                         \n",
       "Interstellar                       2014      Adventure,Drama,Sci-Fi   \n",
       "Avengers: Infinity War             2018     Action,Adventure,Sci-Fi   \n",
       "Spider-Man: Into the Spider-Verse  2018  Action,Adventure,Animation   \n",
       "Coco                               2017  Adventure,Animation,Comedy   \n",
       "The Hunt                           2014                       Drama   \n",
       "\n",
       "                                   averagerating  numvotes  \n",
       "primary_title                                               \n",
       "Interstellar                                 8.6   1299334  \n",
       "Avengers: Infinity War                       8.5    670926  \n",
       "Spider-Man: Into the Spider-Verse            8.5    210869  \n",
       "Coco                                         8.4    277194  \n",
       "The Hunt                                     8.3    242765  "
      ]
     },
     "execution_count": 45,
     "metadata": {},
     "output_type": "execute_result"
    }
   ],
   "source": [
    "# Changing the axis for plotting\n",
    "Ratings_high2.set_index('primary_title', inplace=True)\n",
    "Ratings_high2.head()"
   ]
  },
  {
   "cell_type": "markdown",
   "metadata": {},
   "source": [
    "### Creating Visualizations for Presesntation"
   ]
  },
  {
   "cell_type": "markdown",
   "metadata": {},
   "source": [
    "After considerable exploration and trying out both Seaborn and MatPlotLib, I found a format that did the basics.I ran out of time to tweak more than just the basics. I worked with Joe to ensure that we had similar dimensions and style for our presentation. "
   ]
  },
  {
   "cell_type": "code",
   "execution_count": 27,
   "metadata": {},
   "outputs": [
    {
     "data": {
      "image/png": "[encoded data removed]",
      "text/plain": [
       "<Figure size 720x360 with 1 Axes>"
      ]
     },
     "metadata": {
      "needs_background": "light"
     },
     "output_type": "display_data"
    }
   ],
   "source": [
    "Ratingse= Ratingse.sort_values('numvotes')\n",
    "fig, ax = plt.subplots(figsize=(10, 5))\n",
    "\n",
    "ax.barh(Ratingse.index, Ratingse['numvotes'])\n",
    "ax.set_title('Films with the Most Ratings (2013-18)', fontsize=20)\n",
    "ax.set_xlabel('Number of Ratings', fontsize=14)\n",
    "plt.show()"
   ]
  },
  {
   "cell_type": "code",
   "execution_count": 46,
   "metadata": {},
   "outputs": [
    {
     "data": {
      "image/png": "[encoded data removed]",
      "text/plain": [
       "<Figure size 720x360 with 1 Axes>"
      ]
     },
     "metadata": {
      "needs_background": "light"
     },
     "output_type": "display_data"
    }
   ],
   "source": [
    "Ratings_high2= Ratings_high2.sort_values('averagerating')\n",
    "fig, ax = plt.subplots(figsize=(10, 5))\n",
    "\n",
    "ax.barh(Ratings_high2.index, Ratings_high2['averagerating'])\n",
    "ax.set_title('Films with the Highest Ratings (2013-18)', fontsize=20)\n",
    "ax.set_xlabel('Average Rating', fontsize=14)\n",
    "plt.show()"
   ]
  },
  {
   "cell_type": "markdown",
   "metadata": {},
   "source": [
    "### Conclusions"
   ]
  },
  {
   "cell_type": "markdown",
   "metadata": {},
   "source": [
    "Based on the visualizations above, as well as the data frames, I make the following conclusions. \n",
    "1. I have determined and displayed the 20 films with the highest average user rating on IMDB. All of these films have an average rating of 8.1 or higher (up to 8.6). This is on a 10-point scale.\n",
    "2. I have determined and displayed the 20 films with the most user ratings on IMDB. These films range in number of votes from 576,909 to a high of 1,299,334. This measure can be thought of as a form of popularity. \n",
    "3. 8 of the films appear on both of these Top 20 lists, indicating they are BOTH top rated and very popular. Interstellar is at the top of both lists, by quite a bit.\n",
    "4. Iniital investigation shows that slightly different genres of film appear in each list. The Top Rated films are more likely Dramas(11), Adventure(8), Action(6), Biography(5) or Comedy(5). Wheras many of the Top Popular films are Adventure(15), Action(12), Sci-Fi(11), and Drama(7).\n",
    "5. These lists of the Top 20 in Quality and Popluarity provides a starting point for disecting what makes these films a success which will help our clients re-use elements that lead to this form of success. \n"
   ]
  },
  {
   "cell_type": "code",
   "execution_count": null,
   "metadata": {},
   "outputs": [],
   "source": []
  },
  {
   "cell_type": "markdown",
   "metadata": {},
   "source": [
    "## Appendix"
   ]
  },
  {
   "cell_type": "markdown",
   "metadata": {},
   "source": [
    "#### EDA: \n",
    "To help address the potential issue of the user ratings being biased when there were a low number of ratings, I considered creating high, medium, and low bands for the number of votes. I would base this on the distrubion of the data (above the 75th percentile, in the IQR, below 25th percentile). This approach was abandoned when I realized since my ultimate goal was a small set of data, and that I could use sorting to help with this potential issue. "
   ]
  },
  {
   "cell_type": "code",
   "execution_count": null,
   "metadata": {},
   "outputs": [],
   "source": [
    "# Attempt at creating a new column for bands of the number of ratings. I feel this is missing a way to iterate through the rows. \n",
    "# How to go about creating a new column that takes the numvalues column and determines if value is high, med, or low.\n",
    "\n",
    "# df.insert(5, 'Num_bands', '')\n",
    "# Create a new column = Num_bands\n",
    "# for each value in numvotes:\n",
    "#     if numvotes <= 198:\n",
    "#         make Num_bands = 'low'\n",
    "#     elif numvotes == >= 17596:\n",
    "#         make Num_bands = 'high'\n",
    "#     else:\n",
    "#         make Num_bands = 'med'\n",
    "\n",
    "# Alternate approach... duplicate the column and change the values in placce?"
   ]
  },
  {
   "cell_type": "markdown",
   "metadata": {},
   "source": [
    "#### EDA: using rating and popularity together?\n",
    "Looking at the movies that have both high ratings and a large number of ratings(top of the top?) and tried plotting on their ranks in their respective lists. Not really tell me anything and plots are confusing. Abandoned this. "
   ]
  },
  {
   "cell_type": "code",
   "execution_count": 30,
   "metadata": {},
   "outputs": [
    {
     "data": {
      "text/html": [
       "<div>\n",
       "<style scoped>\n",
       "    .dataframe tbody tr th:only-of-type {\n",
       "        vertical-align: middle;\n",
       "    }\n",
       "\n",
       "    .dataframe tbody tr th {\n",
       "        vertical-align: top;\n",
       "    }\n",
       "\n",
       "    .dataframe thead th {\n",
       "        text-align: right;\n",
       "    }\n",
       "</style>\n",
       "<table border=\"1\" class=\"dataframe\">\n",
       "  <thead>\n",
       "    <tr style=\"text-align: right;\">\n",
       "      <th></th>\n",
       "      <th>Unnamed: 0</th>\n",
       "      <th>popularity</th>\n",
       "      <th>rating</th>\n",
       "      <th>Unnamed: 3</th>\n",
       "      <th>Unnamed: 4</th>\n",
       "      <th>Unnamed: 5</th>\n",
       "      <th>Unnamed: 6</th>\n",
       "    </tr>\n",
       "  </thead>\n",
       "  <tbody>\n",
       "    <tr>\n",
       "      <th>0</th>\n",
       "      <td>Interstellar</td>\n",
       "      <td>1.0</td>\n",
       "      <td>1.0</td>\n",
       "      <td>NaN</td>\n",
       "      <td>NaN</td>\n",
       "      <td>NaN</td>\n",
       "      <td>NaN</td>\n",
       "    </tr>\n",
       "    <tr>\n",
       "      <th>1</th>\n",
       "      <td>The Wolf of Wall Street</td>\n",
       "      <td>2.0</td>\n",
       "      <td>8.0</td>\n",
       "      <td>NaN</td>\n",
       "      <td>NaN</td>\n",
       "      <td>NaN</td>\n",
       "      <td>NaN</td>\n",
       "    </tr>\n",
       "    <tr>\n",
       "      <th>2</th>\n",
       "      <td>Guardians of the Galaxy</td>\n",
       "      <td>3.0</td>\n",
       "      <td>12.0</td>\n",
       "      <td>NaN</td>\n",
       "      <td>NaN</td>\n",
       "      <td>NaN</td>\n",
       "      <td>NaN</td>\n",
       "    </tr>\n",
       "    <tr>\n",
       "      <th>3</th>\n",
       "      <td>Mad Max: Fury Road</td>\n",
       "      <td>5.0</td>\n",
       "      <td>13.0</td>\n",
       "      <td>NaN</td>\n",
       "      <td>NaN</td>\n",
       "      <td>NaN</td>\n",
       "      <td>NaN</td>\n",
       "    </tr>\n",
       "    <tr>\n",
       "      <th>4</th>\n",
       "      <td>Gone Girl</td>\n",
       "      <td>6.0</td>\n",
       "      <td>14.0</td>\n",
       "      <td>NaN</td>\n",
       "      <td>NaN</td>\n",
       "      <td>NaN</td>\n",
       "      <td>NaN</td>\n",
       "    </tr>\n",
       "  </tbody>\n",
       "</table>\n",
       "</div>"
      ],
      "text/plain": [
       "                Unnamed: 0  popularity  rating  Unnamed: 3  Unnamed: 4  \\\n",
       "0             Interstellar         1.0     1.0         NaN         NaN   \n",
       "1  The Wolf of Wall Street         2.0     8.0         NaN         NaN   \n",
       "2  Guardians of the Galaxy         3.0    12.0         NaN         NaN   \n",
       "3       Mad Max: Fury Road         5.0    13.0         NaN         NaN   \n",
       "4                Gone Girl         6.0    14.0         NaN         NaN   \n",
       "\n",
       "   Unnamed: 5  Unnamed: 6  \n",
       "0         NaN         NaN  \n",
       "1         NaN         NaN  \n",
       "2         NaN         NaN  \n",
       "3         NaN         NaN  \n",
       "4         NaN         NaN  "
      ]
     },
     "execution_count": 30,
     "metadata": {},
     "output_type": "execute_result"
    }
   ],
   "source": [
    "# Create a plot of top 8 in both lists\n",
    "Top8ranks = pd.read_csv(\"Top_8_films.csv\")\n",
    "Top8ranks.head()"
   ]
  },
  {
   "cell_type": "code",
   "execution_count": 31,
   "metadata": {},
   "outputs": [
    {
     "data": {
      "text/plain": [
       "Text(0.5, 0.98, 'Top 8 films ranked by popularity and ratings')"
      ]
     },
     "execution_count": 31,
     "metadata": {},
     "output_type": "execute_result"
    },
    {
     "data": {
      "image/png": "[encoded data removed]",
      "text/plain": [
       "<Figure size 360x360 with 1 Axes>"
      ]
     },
     "metadata": {
      "needs_background": "light"
     },
     "output_type": "display_data"
    }
   ],
   "source": [
    "p=sns.relplot(x='rating', y='popularity', data=Top8ranks)\n",
    "p.fig.suptitle(\"Top 8 films ranked by popularity and ratings\")\n",
    "# p.set_title(\"Top 8 films ranked by popularity and ratings\")\n",
    "# p.set(xlabel=\"Rating rank\", ylabel=\"Popularity rank\")"
   ]
  },
  {
   "cell_type": "markdown",
   "metadata": {},
   "source": [
    "#### EDA: top genres represented from films that have BOTH high average ratings and large number of votes\n",
    "Looked at the genres represented by the movies in both of our top 20 lists and saw some differences btween the lists . So tried plotting on genre counts. Ran out of time to go much further. Abandoned this. "
   ]
  },
  {
   "cell_type": "code",
   "execution_count": 32,
   "metadata": {},
   "outputs": [
    {
     "data": {
      "text/plain": [
       "Action,Adventure,Sci-Fi       8\n",
       "Adventure,Drama,Sci-Fi        2\n",
       "Action,Adventure,Comedy       2\n",
       "Biography,Drama,History       1\n",
       "Action,Adventure,Fantasy      1\n",
       "Action,Adventure,Biography    1\n",
       "Biography,Drama,Thriller      1\n",
       "Drama,Sci-Fi,Thriller         1\n",
       "Drama,Mystery,Thriller        1\n",
       "Adventure,Comedy,Crime        1\n",
       "Biography,Crime,Drama         1\n",
       "Name: genres, dtype: int64"
      ]
     },
     "execution_count": 32,
     "metadata": {},
     "output_type": "execute_result"
    }
   ],
   "source": [
    "# This is the source data (form numvotes set) that was used to get the genre counts for the 20 movies with the most votes. \n",
    "Ratingse.genres.value_counts()"
   ]
  },
  {
   "cell_type": "code",
   "execution_count": 33,
   "metadata": {},
   "outputs": [
    {
     "data": {
      "text/html": [
       "<div>\n",
       "<style scoped>\n",
       "    .dataframe tbody tr th:only-of-type {\n",
       "        vertical-align: middle;\n",
       "    }\n",
       "\n",
       "    .dataframe tbody tr th {\n",
       "        vertical-align: top;\n",
       "    }\n",
       "\n",
       "    .dataframe thead th {\n",
       "        text-align: right;\n",
       "    }\n",
       "</style>\n",
       "<table border=\"1\" class=\"dataframe\">\n",
       "  <thead>\n",
       "    <tr style=\"text-align: right;\">\n",
       "      <th></th>\n",
       "      <th>Unnamed: 0</th>\n",
       "      <th>genre</th>\n",
       "      <th>popular_count</th>\n",
       "      <th>rated_count</th>\n",
       "      <th>Unnamed: 4</th>\n",
       "      <th>Unnamed: 5</th>\n",
       "      <th>Unnamed: 6</th>\n",
       "    </tr>\n",
       "  </thead>\n",
       "  <tbody>\n",
       "    <tr>\n",
       "      <th>0</th>\n",
       "      <td>NaN</td>\n",
       "      <td>Adventure</td>\n",
       "      <td>15.0</td>\n",
       "      <td>8.0</td>\n",
       "      <td>NaN</td>\n",
       "      <td>NaN</td>\n",
       "      <td>NaN</td>\n",
       "    </tr>\n",
       "    <tr>\n",
       "      <th>1</th>\n",
       "      <td>NaN</td>\n",
       "      <td>Action</td>\n",
       "      <td>12.0</td>\n",
       "      <td>6.0</td>\n",
       "      <td>NaN</td>\n",
       "      <td>NaN</td>\n",
       "      <td>NaN</td>\n",
       "    </tr>\n",
       "    <tr>\n",
       "      <th>2</th>\n",
       "      <td>NaN</td>\n",
       "      <td>Sci-Fi</td>\n",
       "      <td>11.0</td>\n",
       "      <td>4.0</td>\n",
       "      <td>NaN</td>\n",
       "      <td>NaN</td>\n",
       "      <td>NaN</td>\n",
       "    </tr>\n",
       "    <tr>\n",
       "      <th>3</th>\n",
       "      <td>NaN</td>\n",
       "      <td>Drama</td>\n",
       "      <td>7.0</td>\n",
       "      <td>11.0</td>\n",
       "      <td>NaN</td>\n",
       "      <td>NaN</td>\n",
       "      <td>NaN</td>\n",
       "    </tr>\n",
       "    <tr>\n",
       "      <th>4</th>\n",
       "      <td>NaN</td>\n",
       "      <td>Biography</td>\n",
       "      <td>4.0</td>\n",
       "      <td>5.0</td>\n",
       "      <td>NaN</td>\n",
       "      <td>NaN</td>\n",
       "      <td>NaN</td>\n",
       "    </tr>\n",
       "  </tbody>\n",
       "</table>\n",
       "</div>"
      ],
      "text/plain": [
       "   Unnamed: 0      genre  popular_count  rated_count  Unnamed: 4  Unnamed: 5  \\\n",
       "0         NaN  Adventure           15.0          8.0         NaN         NaN   \n",
       "1         NaN     Action           12.0          6.0         NaN         NaN   \n",
       "2         NaN     Sci-Fi           11.0          4.0         NaN         NaN   \n",
       "3         NaN      Drama            7.0         11.0         NaN         NaN   \n",
       "4         NaN  Biography            4.0          5.0         NaN         NaN   \n",
       "\n",
       "   Unnamed: 6  \n",
       "0         NaN  \n",
       "1         NaN  \n",
       "2         NaN  \n",
       "3         NaN  \n",
       "4         NaN  "
      ]
     },
     "execution_count": 33,
     "metadata": {},
     "output_type": "execute_result"
    }
   ],
   "source": [
    "# Create a plot of top genres listed for top 20\n",
    "Top20_genres = pd.read_csv(\"top20_genres.csv\")\n",
    "Top20_genres.head()"
   ]
  },
  {
   "cell_type": "code",
   "execution_count": 34,
   "metadata": {},
   "outputs": [
    {
     "data": {
      "text/plain": [
       "Text(0.5, 0.98, 'Top genres by popularity and ratings')"
      ]
     },
     "execution_count": 34,
     "metadata": {},
     "output_type": "execute_result"
    },
    {
     "data": {
      "image/png": "[encoded data removed]",
      "text/plain": [
       "<Figure size 360x360 with 1 Axes>"
      ]
     },
     "metadata": {
      "needs_background": "light"
     },
     "output_type": "display_data"
    }
   ],
   "source": [
    "# Plotting the count data for genres.\n",
    "g=sns.relplot(x='rated_count', y='popular_count', data=Top20_genres)\n",
    "g.fig.suptitle(\"Top genres by popularity and ratings\")"
   ]
  },
  {
   "cell_type": "markdown",
   "metadata": {},
   "source": [
    "#### EDA on the TMDb data"
   ]
  },
  {
   "cell_type": "code",
   "execution_count": 35,
   "metadata": {},
   "outputs": [
    {
     "data": {
      "text/plain": [
       "86"
      ]
     },
     "execution_count": 35,
     "metadata": {},
     "output_type": "execute_result"
    }
   ],
   "source": [
    "Full.vote_average.nunique()"
   ]
  },
  {
   "cell_type": "code",
   "execution_count": 36,
   "metadata": {},
   "outputs": [
    {
     "data": {
      "text/plain": [
       "0"
      ]
     },
     "execution_count": 36,
     "metadata": {},
     "output_type": "execute_result"
    }
   ],
   "source": [
    "Full.vote_average.isna().sum()"
   ]
  },
  {
   "cell_type": "code",
   "execution_count": 37,
   "metadata": {},
   "outputs": [
    {
     "data": {
      "text/plain": [
       "count    14219.000000\n",
       "mean         5.698938\n",
       "std          1.570659\n",
       "min          0.000000\n",
       "25%          5.000000\n",
       "50%          5.900000\n",
       "75%          6.700000\n",
       "max         10.000000\n",
       "Name: vote_average, dtype: float64"
      ]
     },
     "execution_count": 37,
     "metadata": {},
     "output_type": "execute_result"
    }
   ],
   "source": [
    "Full.vote_average.describe()"
   ]
  },
  {
   "cell_type": "code",
   "execution_count": 38,
   "metadata": {},
   "outputs": [
    {
     "data": {
      "text/plain": [
       "1414"
      ]
     },
     "execution_count": 38,
     "metadata": {},
     "output_type": "execute_result"
    }
   ],
   "source": [
    "Full.vote_count.nunique()"
   ]
  },
  {
   "cell_type": "code",
   "execution_count": 39,
   "metadata": {},
   "outputs": [
    {
     "data": {
      "text/plain": [
       "0"
      ]
     },
     "execution_count": 39,
     "metadata": {},
     "output_type": "execute_result"
    }
   ],
   "source": [
    "Full.vote_count.isna().sum()"
   ]
  },
  {
   "cell_type": "code",
   "execution_count": 40,
   "metadata": {},
   "outputs": [
    {
     "data": {
      "text/plain": [
       "count    14219\n",
       "mean       739\n",
       "std       1980\n",
       "min          1\n",
       "25%          4\n",
       "50%         24\n",
       "75%        338\n",
       "max      20175\n",
       "Name: vote_count, dtype: int64"
      ]
     },
     "execution_count": 40,
     "metadata": {},
     "output_type": "execute_result"
    }
   ],
   "source": [
    "# NOTE: The median number of votes for a film in the dataset is just 24. This is compared to 1,403 in the IMDB data set. \n",
    "Full.vote_count.describe().astype(int)"
   ]
  },
  {
   "cell_type": "markdown",
   "metadata": {},
   "source": [
    "#### EDA on the TMDb data...exploring correlations a little bit. "
   ]
  },
  {
   "cell_type": "code",
   "execution_count": 41,
   "metadata": {},
   "outputs": [
    {
     "data": {
      "text/plain": [
       "averagerating      1.000000\n",
       "vote_average       0.527792\n",
       "numvotes           0.325257\n",
       "runtime_minutes    0.311571\n",
       "vote_count         0.297104\n",
       "Documentary        0.288992\n",
       "Drama              0.214633\n",
       "Biography          0.207595\n",
       "History            0.127970\n",
       "Sport              0.088354\n",
       "Music              0.081626\n",
       "News               0.072147\n",
       "Romance            0.064260\n",
       "Adventure          0.063502\n",
       "Animation          0.054603\n",
       "Musical            0.035468\n",
       "War                0.019037\n",
       "Family             0.010955\n",
       "start_year         0.007524\n",
       "Comedy             0.004470\n",
       "Crime              0.003219\n",
       "Year              -0.007645\n",
       "Fantasy           -0.012853\n",
       "Mystery           -0.037975\n",
       "death_year        -0.040309\n",
       "Action            -0.056208\n",
       "id                -0.068952\n",
       "Sci-Fi            -0.079821\n",
       "birth_year        -0.116843\n",
       "Thriller          -0.204665\n",
       "Horror            -0.364015\n",
       "Name: averagerating, dtype: float64"
      ]
     },
     "execution_count": 41,
     "metadata": {},
     "output_type": "execute_result"
    }
   ],
   "source": [
    "Full.corr()['averagerating'].sort_values(ascending=False)"
   ]
  },
  {
   "cell_type": "code",
   "execution_count": 47,
   "metadata": {},
   "outputs": [
    {
     "data": {
      "text/plain": [
       "averagerating    1.000000\n",
       "numvotes         0.255882\n",
       "Year            -0.020660\n",
       "Name: averagerating, dtype: float64"
      ]
     },
     "execution_count": 47,
     "metadata": {},
     "output_type": "execute_result"
    }
   ],
   "source": [
    "Ratingsd.corr()['averagerating'].sort_values(ascending=False)"
   ]
  }
 ],
 "metadata": {
  "kernelspec": {
   "display_name": "Python 3",
   "language": "python",
   "name": "python3"
  },
  "language_info": {
   "codemirror_mode": {
    "name": "ipython",
    "version": 3
   },
   "file_extension": ".py",
   "mimetype": "text/x-python",
   "name": "python",
   "nbconvert_exporter": "python",
   "pygments_lexer": "ipython3",
   "version": "3.6.9"
  }
 },
 "nbformat": 4,
 "nbformat_minor": 4
}
