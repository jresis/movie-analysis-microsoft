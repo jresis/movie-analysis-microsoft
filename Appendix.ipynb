{
 "cells": [
  {
   "cell_type": "markdown",
   "metadata": {},
   "source": [
    "Appendix"
   ]
  },
  {
   "cell_type": "code",
   "execution_count": 23,
   "metadata": {},
   "outputs": [],
   "source": [
    "#Import the libraries\n",
    "import pandas as pd\n",
    "import numpy as np\n",
    "import seaborn as sns\n",
    "import matplotlib.pyplot as plt\n",
    "%matplotlib inline\n",
    "import sqlite3\n",
    "import json\n",
    "import requests\n",
    "import time\n",
    "from bs4 import BeautifulSoup\n",
    "import re"
   ]
  },
  {
   "cell_type": "code",
   "execution_count": 45,
   "metadata": {},
   "outputs": [],
   "source": [
    "#genre_dict line is to map the document with genre ID numbers but not numbers.\n",
    "genre_dict = {\"genres\":[{\"id\":28,\"name\":\"Action\"},{\"id\":12,\"name\":\"Adventure\"},{\"id\":16,\"name\":\"Animation\"},{\"id\":35,\"name\":\"Comedy\"},{\"id\":80,\"name\":\"Crime\"},{\"id\":99,\"name\":\"Documentary\"},{\"id\":18,\"name\":\"Drama\"},{\"id\":10751,\"name\":\"Family\"},{\"id\":14,\"name\":\"Fantasy\"},{\"id\":36,\"name\":\"History\"},{\"id\":27,\"name\":\"Horror\"},{\"id\":10402,\"name\":\"Music\"},{\"id\":9648,\"name\":\"Mystery\"},{\"id\":10749,\"name\":\"Romance\"},{\"id\":878,\"name\":\"Science Fiction\"},{\"id\":10770,\"name\":\"TV Movie\"},{\"id\":53,\"name\":\"Thriller\"},{\"id\":10752,\"name\":\"War\"},{\"id\":37,\"name\":\"Western\"}]}\n",
    "df_ratings=pd.read_csv('imdb.title.ratings.csv.gz')\n",
    "df_basics=pd.read_csv('imdb.title.basics.csv.gz')\n",
    "df_gross=pd.read_csv('bom.movie_gross.csv.gz')\n",
    "df_name_basics=pd.read_csv('imdb.name.basics.csv.gz')\n",
    "df_title_akas=pd.read_csv('imdb.title.akas.csv.gz')\n",
    "#df_budget=pd.read_csv('tn.movie_budgets.csv.gz')\n",
    "df_TMDB=pd.read_csv('TMDB_cleaned.csv')\n",
    "df_writers=pd.read_csv('Writersb.csv')\n",
    "pd.set_option('display.max_columns', 45)\n",
    "pd.set_option('display.max_rows', 100)\n",
    "Full = pd.read_csv(\"df_7.csv\")"
   ]
  },
  {
   "cell_type": "markdown",
   "metadata": {},
   "source": [
    "EDA\n",
    "To help address the potential issue of the user ratings being biased when there were a low number of ratings, I considered creating high, medium, and low bands for the number of votes. I would base this on the distrubion of the data (above the 75th percentile, in the IQR, below 25th percentile). This approach was abandoned when I realized since my ultimate goal was a small set of data, and that I could use sorting to help with this potential issue."
   ]
  },
  {
   "cell_type": "markdown",
   "metadata": {},
   "source": [
    "Attempt at creating a new column for bands of the number of ratings. I feel this is missing a way to iterate through the rows. \n",
    "How to go about creating a new column that takes the numvalues column and determines if value is high, med, or low."
   ]
  },
  {
   "cell_type": "code",
   "execution_count": 46,
   "metadata": {},
   "outputs": [],
   "source": [
    "# df.insert(5, 'Num_bands', '')\n",
    "# Create a new column = Num_bands\n",
    "# for each value in numvotes:\n",
    "#     if numvotes <= 198:\n",
    "#         make Num_bands = 'low'\n",
    "#     elif numvotes == >= 17596:\n",
    "#         make Num_bands = 'high'\n",
    "#     else:\n",
    "#         make Num_bands = 'med'\n",
    "\n",
    "# Alternate approach... duplicate the column and change the values in placce?"
   ]
  },
  {
   "cell_type": "code",
   "execution_count": 47,
   "metadata": {},
   "outputs": [
    {
     "data": {
      "text/html": [
       "<div>\n",
       "<style scoped>\n",
       "    .dataframe tbody tr th:only-of-type {\n",
       "        vertical-align: middle;\n",
       "    }\n",
       "\n",
       "    .dataframe tbody tr th {\n",
       "        vertical-align: top;\n",
       "    }\n",
       "\n",
       "    .dataframe thead th {\n",
       "        text-align: right;\n",
       "    }\n",
       "</style>\n",
       "<table border=\"1\" class=\"dataframe\">\n",
       "  <thead>\n",
       "    <tr style=\"text-align: right;\">\n",
       "      <th></th>\n",
       "      <th>tconst</th>\n",
       "      <th>averagerating</th>\n",
       "      <th>numvotes</th>\n",
       "    </tr>\n",
       "  </thead>\n",
       "  <tbody>\n",
       "    <tr>\n",
       "      <th>63498</th>\n",
       "      <td>tt1375666</td>\n",
       "      <td>8.8</td>\n",
       "      <td>1841066</td>\n",
       "    </tr>\n",
       "    <tr>\n",
       "      <th>8738</th>\n",
       "      <td>tt1345836</td>\n",
       "      <td>8.4</td>\n",
       "      <td>1387769</td>\n",
       "    </tr>\n",
       "    <tr>\n",
       "      <th>24920</th>\n",
       "      <td>tt0816692</td>\n",
       "      <td>8.6</td>\n",
       "      <td>1299334</td>\n",
       "    </tr>\n",
       "    <tr>\n",
       "      <th>38058</th>\n",
       "      <td>tt1853728</td>\n",
       "      <td>8.4</td>\n",
       "      <td>1211405</td>\n",
       "    </tr>\n",
       "    <tr>\n",
       "      <th>48221</th>\n",
       "      <td>tt0848228</td>\n",
       "      <td>8.1</td>\n",
       "      <td>1183655</td>\n",
       "    </tr>\n",
       "    <tr>\n",
       "      <th>...</th>\n",
       "      <td>...</td>\n",
       "      <td>...</td>\n",
       "      <td>...</td>\n",
       "    </tr>\n",
       "    <tr>\n",
       "      <th>39180</th>\n",
       "      <td>tt8050582</td>\n",
       "      <td>8.0</td>\n",
       "      <td>5</td>\n",
       "    </tr>\n",
       "    <tr>\n",
       "      <th>33886</th>\n",
       "      <td>tt6449270</td>\n",
       "      <td>4.0</td>\n",
       "      <td>5</td>\n",
       "    </tr>\n",
       "    <tr>\n",
       "      <th>22243</th>\n",
       "      <td>tt3819584</td>\n",
       "      <td>7.6</td>\n",
       "      <td>5</td>\n",
       "    </tr>\n",
       "    <tr>\n",
       "      <th>49605</th>\n",
       "      <td>tt2136926</td>\n",
       "      <td>5.8</td>\n",
       "      <td>5</td>\n",
       "    </tr>\n",
       "    <tr>\n",
       "      <th>32411</th>\n",
       "      <td>tt2056595</td>\n",
       "      <td>8.8</td>\n",
       "      <td>5</td>\n",
       "    </tr>\n",
       "  </tbody>\n",
       "</table>\n",
       "<p>73856 rows × 3 columns</p>\n",
       "</div>"
      ],
      "text/plain": [
       "          tconst  averagerating  numvotes\n",
       "63498  tt1375666            8.8   1841066\n",
       "8738   tt1345836            8.4   1387769\n",
       "24920  tt0816692            8.6   1299334\n",
       "38058  tt1853728            8.4   1211405\n",
       "48221  tt0848228            8.1   1183655\n",
       "...          ...            ...       ...\n",
       "39180  tt8050582            8.0         5\n",
       "33886  tt6449270            4.0         5\n",
       "22243  tt3819584            7.6         5\n",
       "49605  tt2136926            5.8         5\n",
       "32411  tt2056595            8.8         5\n",
       "\n",
       "[73856 rows x 3 columns]"
      ]
     },
     "execution_count": 47,
     "metadata": {},
     "output_type": "execute_result"
    }
   ],
   "source": [
    "df_ratings.head()\n",
    "df_ratings.sort_values(by='numvotes',ascending=False)\n",
    "#Would like to get movie titles, genres, and studios in this table to make more useful conclusions.\n",
    "#Filter out ones with low amounts of numvotes"
   ]
  },
  {
   "cell_type": "code",
   "execution_count": 48,
   "metadata": {},
   "outputs": [
    {
     "data": {
      "image/png": "[encoded data removed]",
      "text/plain": [
       "<Figure size 432x288 with 1 Axes>"
      ]
     },
     "metadata": {
      "needs_background": "light"
     },
     "output_type": "display_data"
    },
    {
     "name": "stdout",
     "output_type": "stream",
     "text": [
      "Correlation between ratings and other variables: \n"
     ]
    },
    {
     "data": {
      "text/plain": [
       "numvotes         0.044478\n",
       "averagerating    1.000000\n",
       "Name: averagerating, dtype: float64"
      ]
     },
     "execution_count": 48,
     "metadata": {},
     "output_type": "execute_result"
    }
   ],
   "source": [
    "fig, ax=plt.subplots()\n",
    "popularity_subplot=ax.scatter(df_ratings['numvotes']/1e6,df_ratings['averagerating'])\n",
    "ax.set_xlabel('Number of votes (millions)')\n",
    "ax.set_ylabel('Average rating')\n",
    "ax.set_title('Reception of all movies')\n",
    "plt.show()\n",
    "\n",
    "df_ratings.describe()\n",
    "\n",
    "#Show correlations (nothing very useful from this table, but this is often helpful)\n",
    "print('Correlation between ratings and other variables: ')\n",
    "df_ratings.corr()['averagerating'].sort_values()"
   ]
  },
  {
   "cell_type": "code",
   "execution_count": 49,
   "metadata": {},
   "outputs": [
    {
     "data": {
      "text/plain": [
       "tconst           False\n",
       "averagerating    False\n",
       "numvotes         False\n",
       "dtype: bool"
      ]
     },
     "execution_count": 49,
     "metadata": {},
     "output_type": "execute_result"
    }
   ],
   "source": [
    "df_ratings.isna().any()"
   ]
  },
  {
   "cell_type": "code",
   "execution_count": 50,
   "metadata": {},
   "outputs": [],
   "source": [
    "#Great, no issues with that dataset we just viewed."
   ]
  },
  {
   "cell_type": "markdown",
   "metadata": {},
   "source": [
    "Though this did not help us directly with any of the business questions we addressed, here are\n",
    "some correlation coefficients between variables we considered."
   ]
  },
  {
   "cell_type": "code",
   "execution_count": 51,
   "metadata": {},
   "outputs": [
    {
     "data": {
      "text/plain": [
       "averagerating      1.000000\n",
       "vote_average       0.527792\n",
       "numvotes           0.325257\n",
       "runtime_minutes    0.311571\n",
       "vote_count         0.297104\n",
       "Documentary        0.288992\n",
       "Drama              0.214633\n",
       "Biography          0.207595\n",
       "History            0.127970\n",
       "Sport              0.088354\n",
       "Music              0.081626\n",
       "News               0.072147\n",
       "Romance            0.064260\n",
       "Adventure          0.063502\n",
       "Animation          0.054603\n",
       "Musical            0.035468\n",
       "War                0.019037\n",
       "Family             0.010955\n",
       "start_year         0.007524\n",
       "Comedy             0.004470\n",
       "Crime              0.003219\n",
       "Year              -0.007645\n",
       "Fantasy           -0.012853\n",
       "Mystery           -0.037975\n",
       "death_year        -0.040309\n",
       "Action            -0.056208\n",
       "id                -0.068952\n",
       "Sci-Fi            -0.079821\n",
       "birth_year        -0.116843\n",
       "Thriller          -0.204665\n",
       "Horror            -0.364015\n",
       "Name: averagerating, dtype: float64"
      ]
     },
     "execution_count": 51,
     "metadata": {},
     "output_type": "execute_result"
    }
   ],
   "source": [
    "Full.corr()['averagerating'].sort_values(ascending=False)"
   ]
  },
  {
   "cell_type": "code",
   "execution_count": null,
   "metadata": {},
   "outputs": [],
   "source": [
    "#genres=[]\n",
    "#for f in df_ratings_basics:\n",
    "#    for g in f.strip('[]').split(','):\n",
    "#        if not g in genres:\n",
    "#            genres.append(g)"
   ]
  },
  {
   "cell_type": "code",
   "execution_count": null,
   "metadata": {},
   "outputs": [],
   "source": []
  },
  {
   "cell_type": "markdown",
   "metadata": {},
   "source": [
    "Below are attempts to create a master file with all the columns we needed."
   ]
  },
  {
   "cell_type": "code",
   "execution_count": null,
   "metadata": {},
   "outputs": [],
   "source": [
    "#Merge the ratings and basics tables.\n",
    "#df_ratings_basics=df_ratings.merge(df_basics, left_on='tconst',right_on='tconst')\n",
    "#df_ratings_basics.head()\n",
    "#Made these comments after running this (do not want this to happen every time we run this cell)."
   ]
  },
  {
   "cell_type": "code",
   "execution_count": 30,
   "metadata": {},
   "outputs": [],
   "source": [
    "#df_budget_TMDB.to_csv (r'/Users/jresis/Desktop/df_budget_TMDB.csv', index = False, header=True)\n",
    "#Save as a csv to the desktop"
   ]
  },
  {
   "cell_type": "code",
   "execution_count": 31,
   "metadata": {},
   "outputs": [],
   "source": [
    "#df_gross_basics.to_csv (r'/Users/jresis/Desktop/df_budget_TMDB.csv', index = False, header=True)"
   ]
  },
  {
   "cell_type": "code",
   "execution_count": 32,
   "metadata": {},
   "outputs": [],
   "source": [
    "#Another table merge.\n",
    "#df_main_table=df_budget_TMDB.merge(df_ratings_basics,left_on='movie',right_on='primary_title')"
   ]
  },
  {
   "cell_type": "code",
   "execution_count": 33,
   "metadata": {},
   "outputs": [],
   "source": [
    "#df_gross_basics.to_csv (r'/Users/jresis/Desktop/df_main_table.csv', index = False, header=True)\n",
    "#Making a main table with all the fields we need, converting to a csv file."
   ]
  },
  {
   "cell_type": "code",
   "execution_count": 34,
   "metadata": {},
   "outputs": [],
   "source": [
    "#df_main_table.to_csv (r'/Users/jresis/Desktop/df_budget_TMDB.csv', index = False, header=True)"
   ]
  },
  {
   "cell_type": "code",
   "execution_count": 35,
   "metadata": {},
   "outputs": [],
   "source": [
    "#df_2=df_main_table.merge(df_writers,left_on='tconst',right_on='tconst')"
   ]
  },
  {
   "cell_type": "code",
   "execution_count": 36,
   "metadata": {},
   "outputs": [],
   "source": [
    "#df_2.to_csv (r'/Users/jresis/Desktop/df_2.csv', index = False, header=True)"
   ]
  },
  {
   "cell_type": "code",
   "execution_count": 37,
   "metadata": {},
   "outputs": [],
   "source": [
    "#df_gross_basics_3=df_basics.merge(df_gross, left_on='primary_title',right_on='title')\n",
    "#df_gross_basics_3.info()"
   ]
  },
  {
   "cell_type": "code",
   "execution_count": 38,
   "metadata": {},
   "outputs": [],
   "source": [
    "#df_3=df_ratings_basics_3.merge(df_writers,left_on='tconst',right_on='tconst')"
   ]
  },
  {
   "cell_type": "code",
   "execution_count": 39,
   "metadata": {},
   "outputs": [],
   "source": [
    "#df_4=df_writers.merge(df_writers,left_on='tconst',right_on='tconst')"
   ]
  },
  {
   "cell_type": "code",
   "execution_count": 40,
   "metadata": {},
   "outputs": [],
   "source": [
    "#df_6=df_ratings_basics_new.merge(df_TMDB,left_on='primary_title',right_on='title')"
   ]
  },
  {
   "cell_type": "code",
   "execution_count": 41,
   "metadata": {},
   "outputs": [],
   "source": [
    "#df_6.to_csv (r'/Users/jresis/Desktop/df_6.csv', index = False, header=True)"
   ]
  },
  {
   "cell_type": "code",
   "execution_count": 42,
   "metadata": {},
   "outputs": [],
   "source": [
    "#df_7=df_6.merge(df_writers,left_on='tconst',right_on='tconst')"
   ]
  },
  {
   "cell_type": "code",
   "execution_count": 43,
   "metadata": {},
   "outputs": [],
   "source": [
    "#df_7.to_csv (r'/Users/jresis/Desktop/df_7.csv', index = False, header=True)"
   ]
  },
  {
   "cell_type": "code",
   "execution_count": null,
   "metadata": {},
   "outputs": [],
   "source": [
    "#df_7.isna().sum()"
   ]
  },
  {
   "cell_type": "code",
   "execution_count": null,
   "metadata": {},
   "outputs": [],
   "source": [
    "#df_8=df_7.merge(df_profit_genre_ranked,left_on='tconst',right_on='tconst')"
   ]
  },
  {
   "cell_type": "code",
   "execution_count": null,
   "metadata": {},
   "outputs": [],
   "source": [
    "#df_8.to_csv (r'/Users/jresis/Desktop/df_8.csv', index = False, header=True)"
   ]
  },
  {
   "cell_type": "code",
   "execution_count": null,
   "metadata": {},
   "outputs": [],
   "source": [
    "#df_9=df_budget.merge(df_7,left_on='movie',right_on='title')"
   ]
  },
  {
   "cell_type": "code",
   "execution_count": null,
   "metadata": {},
   "outputs": [],
   "source": [
    "#df_9.to_csv (r'/Users/jresis/Desktop/df_9.csv', index = False, header=True)"
   ]
  },
  {
   "cell_type": "code",
   "execution_count": null,
   "metadata": {},
   "outputs": [],
   "source": []
  }
 ],
 "metadata": {
  "kernelspec": {
   "display_name": "Python 3",
   "language": "python",
   "name": "python3"
  },
  "language_info": {
   "codemirror_mode": {
    "name": "ipython",
    "version": 3
   },
   "file_extension": ".py",
   "mimetype": "text/x-python",
   "name": "python",
   "nbconvert_exporter": "python",
   "pygments_lexer": "ipython3",
   "version": "3.8.3"
  }
 },
 "nbformat": 4,
 "nbformat_minor": 4
}
